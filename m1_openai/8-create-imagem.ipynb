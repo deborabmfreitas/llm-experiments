{
 "cells": [
  {
   "cell_type": "code",
   "execution_count": 1,
   "metadata": {},
   "outputs": [],
   "source": [
    "import openai\n",
    "from dotenv import load_dotenv\n",
    "import os\n",
    "from PIL import Image\n",
    "import requests"
   ]
  },
  {
   "cell_type": "code",
   "execution_count": 2,
   "metadata": {},
   "outputs": [],
   "source": [
    "# Acessando a API\n",
    "\n",
    "load_dotenv()\n",
    "secret_key = os.getenv('OPEN_API_KEY')"
   ]
  },
  {
   "cell_type": "code",
   "execution_count": 3,
   "metadata": {},
   "outputs": [],
   "source": [
    "# Instanciando \n",
    "\n",
    "client = openai.Client(api_key=secret_key)"
   ]
  },
  {
   "cell_type": "markdown",
   "metadata": {},
   "source": [
    "### Gerar Imagens"
   ]
  },
  {
   "cell_type": "code",
   "execution_count": 4,
   "metadata": {},
   "outputs": [],
   "source": [
    "nome=\"robo_praia\"\n",
    "model=\"dall-e-3\"\n",
    "prompt=\"Crie uma imagem com dois robôs em uma praia lendo livro de literatura\"\n",
    "size=\"1024x1024\"\n",
    "quality=\"hd\"\n",
    "style=\"vivid\""
   ]
  },
  {
   "cell_type": "code",
   "execution_count": 5,
   "metadata": {},
   "outputs": [],
   "source": [
    "resposta = client.images.generate(\n",
    "    model=model,\n",
    "    prompt=prompt,\n",
    "    size=size,\n",
    "    quality=quality,\n",
    "    style=style,\n",
    "    n=1\n",
    ")"
   ]
  },
  {
   "cell_type": "code",
   "execution_count": 6,
   "metadata": {},
   "outputs": [
    {
     "data": {
      "text/plain": [
       "'Create an image of two robots situated on a sunny beach, engrossed in reading literature books. Sand is beneath their metallic bodies, with waves gently lapping at the shoreline nearby. The sky above is clear, with a few fluffy clouds drifting by. Around them, seashells and small pebbles dot the landscape. The robots are designed with sleek and modern attributes, their metallic silver exterior gleaming in the sunshine. Details include gears and wires mimicking veins and muscles, flexible joints for mobility, and LED lights serving as their eyes, all keenly focused on the books they are holding.'"
      ]
     },
     "execution_count": 6,
     "metadata": {},
     "output_type": "execute_result"
    }
   ],
   "source": [
    "resposta.data[0].revised_prompt"
   ]
  },
  {
   "cell_type": "code",
   "execution_count": 7,
   "metadata": {},
   "outputs": [],
   "source": [
    "nome_arquivo = f\"files/{nome}_{model}_{quality}_{style}.jpg\"\n",
    "image_url = resposta.data[0].url\n",
    "image_data = requests.get(image_url).content\n",
    "with open(nome_arquivo, \"wb\") as f:\n",
    "    f.write(image_data)"
   ]
  }
 ],
 "metadata": {
  "kernelspec": {
   "display_name": "Python 3 (ipykernel)",
   "language": "python",
   "name": "python3"
  },
  "language_info": {
   "codemirror_mode": {
    "name": "ipython",
    "version": 3
   },
   "file_extension": ".py",
   "mimetype": "text/x-python",
   "name": "python",
   "nbconvert_exporter": "python",
   "pygments_lexer": "ipython3",
   "version": "3.12.3"
  }
 },
 "nbformat": 4,
 "nbformat_minor": 4
}
