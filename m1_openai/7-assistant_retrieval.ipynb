{
 "cells": [
  {
   "cell_type": "markdown",
   "metadata": {},
   "source": [
    "# Assistant retrievel\n",
    "\n",
    "* O recurso de retrieval dos Assistants da OpenAI (atualmente chamado de file_search) é uma funcionalidade avançada que permite aos modelos de IA acessar informações externas para oferecer respostas mais precisas e contextualizadas.\n",
    "* Com o retrieval, o assistente é capaz de buscar dados em documentos fornecidos pelo usuário, como PDFs, arquivos de texto e outros formatos e utilizar essas informações diretamente para construir respostas mais relevantes, fundamentadas e específicas.\n",
    "* No caso deste projeto, o retrieval será utilizado para pesquisar o conteúdo de um arquivo PDF enviado."
   ]
  },
  {
   "cell_type": "code",
   "execution_count": 1,
   "metadata": {},
   "outputs": [],
   "source": [
    "import openai\n",
    "from dotenv import load_dotenv\n",
    "import os\n",
    "import time"
   ]
  },
  {
   "cell_type": "code",
   "execution_count": 2,
   "metadata": {},
   "outputs": [],
   "source": [
    "# Acessando a API\n",
    "\n",
    "load_dotenv()\n",
    "secret_key = os.getenv('OPEN_API_KEY')"
   ]
  },
  {
   "cell_type": "code",
   "execution_count": 3,
   "metadata": {},
   "outputs": [],
   "source": [
    "# Instanciando \n",
    "\n",
    "client = openai.Client(api_key=secret_key)"
   ]
  },
  {
   "cell_type": "code",
   "execution_count": 4,
   "metadata": {},
   "outputs": [
    {
     "name": "stdout",
     "output_type": "stream",
     "text": [
      "Arquivo enviado: file-67hcmYSVda11JXUV6xKByV\n"
     ]
    }
   ],
   "source": [
    "# 1. Faz upload do PDF\n",
    "uploaded_file = client.files.create(\n",
    "    file=open(\"files/LLM.pdf\", \"rb\"),\n",
    "    purpose=\"assistants\"\n",
    ")\n",
    "print(f\"Arquivo enviado: {uploaded_file.id}\")"
   ]
  },
  {
   "cell_type": "code",
   "execution_count": 5,
   "metadata": {},
   "outputs": [
    {
     "name": "stdout",
     "output_type": "stream",
     "text": [
      "Assistant criado: asst_tk1MIkqJkwwrRf8Sl0fpNhBi\n"
     ]
    }
   ],
   "source": [
    "# 2. Cria o Assistant (sem arquivos) com ferramenta file_search\n",
    "assistant = client.beta.assistants.create(\n",
    "    name=\"Tutor de Apostilas\",\n",
    "    instructions=\"Responda às perguntas usando as informações da apostila fornecida.\",\n",
    "    model=\"gpt-4-turbo\",\n",
    "    tools=[{\"type\": \"file_search\"}]\n",
    ")\n",
    "print(f\"Assistant criado: {assistant.id}\")"
   ]
  },
  {
   "cell_type": "code",
   "execution_count": 6,
   "metadata": {},
   "outputs": [
    {
     "name": "stdout",
     "output_type": "stream",
     "text": [
      "Thread criada: thread_9fzgqWNiw1dUux2l9GYBk1rj\n"
     ]
    }
   ],
   "source": [
    "# 3. Cria o Thread já enviando a primeira mensagem e anexando o arquivo\n",
    "thread = client.beta.threads.create(\n",
    "    messages=[\n",
    "        {\n",
    "            \"role\": \"user\",\n",
    "            \"content\": \"Quais são os principais temas abordados nessa apostila?\",\n",
    "            # Aqui vinculamos o PDF ao thread via attachments\n",
    "            \"attachments\": [\n",
    "                {\n",
    "                    \"file_id\": uploaded_file.id,\n",
    "                    \"tools\": [{\"type\": \"file_search\"}]\n",
    "                }\n",
    "            ],\n",
    "        }\n",
    "    ]\n",
    ")\n",
    "print(f\"Thread criada: {thread.id}\")"
   ]
  },
  {
   "cell_type": "code",
   "execution_count": 7,
   "metadata": {},
   "outputs": [
    {
     "name": "stdout",
     "output_type": "stream",
     "text": [
      "Run criada: run_tTZMMT0VcphZKOVASD5xW3jf\n"
     ]
    }
   ],
   "source": [
    "# 4. Executa o assistant nesse thread\n",
    "run = client.beta.threads.runs.create(\n",
    "    thread_id=thread.id,\n",
    "    assistant_id=assistant.id\n",
    ")\n",
    "print(f\"Run criada: {run.id}\")"
   ]
  },
  {
   "cell_type": "code",
   "execution_count": 8,
   "metadata": {},
   "outputs": [
    {
     "name": "stdout",
     "output_type": "stream",
     "text": [
      "Status: queued... aguardando\n",
      "Status: in_progress... aguardando\n",
      "Status: in_progress... aguardando\n",
      "Status: in_progress... aguardando\n",
      "Status: in_progress... aguardando\n",
      "Status: in_progress... aguardando\n",
      "Run finalizada!\n"
     ]
    }
   ],
   "source": [
    "# 5. Aguarda a run completar\n",
    "while True:\n",
    "    status = client.beta.threads.runs.retrieve(\n",
    "        thread_id=thread.id,\n",
    "        run_id=run.id\n",
    "    ).status\n",
    "    if status == \"completed\":\n",
    "        print(\"Run finalizada!\")\n",
    "        break\n",
    "    elif status == \"failed\":\n",
    "        raise RuntimeError(\"A execução falhou.\")\n",
    "    else:\n",
    "        print(f\"Status: {status}... aguardando\")\n",
    "        time.sleep(2)"
   ]
  },
  {
   "cell_type": "code",
   "execution_count": 9,
   "metadata": {},
   "outputs": [
    {
     "name": "stdout",
     "output_type": "stream",
     "text": [
      "\n",
      "Resposta do Assistant:\n",
      "A apostila aborda principalmente os Grandes Modelos de Linguagem (LLM), cobrindo uma variedade de temas como:\n",
      "\n",
      "1. **Introdução e Definição de LLMs:** Explicações sobre o que são os LLMs, suas funções e importância no campo da inteligência artificial, especificamente no processamento de grandes volumes de dados de linguagem natural【4:1†source】.\n",
      "\n",
      "2. **Histórico e Desenvolvimento dos LLMs:** Uma revisão histórica que vai das primeiras tentativas de criar regras linguísticas firmes até os avanços recentes em deep learning e modelos como BERT e GPT【4:1†source】.\n",
      "\n",
      "3. **Aplicações dos LLMs:** Discute vários usos práticos dos LLMs, incluindo geração de conteúdo, análise de sentimento, classificação e agrupamento de textos, tradução de idiomas, e sumarização【4:4†source】.\n",
      "\n",
      "4. **Aspectos Técnicos e Teóricos:** Descrição detalhada de como os LLMs funcionam, os princípios por trás de sua operação, e orientações para começar a usá-los【4:0†source】.\n",
      "\n",
      "5. **Considerações Futuras e Diretrizes:** Perspectivas sobre o futuro dos LLMs, incluindo desafios, diretrizes gerais para sua implementação, e considerações sobre a importância de uma base de dados sólida【4:0†source】.\n",
      "\n",
      "Estes tópicos são tratados de maneira a fornecer uma visão abrangente e detalhada sobre os LLMs, desde a teoria até a prática, e suas implicações no mundo da tecnologia e além.\n"
     ]
    }
   ],
   "source": [
    "# 6. Lista e imprime as mensagens do assistant\n",
    "messages = client.beta.threads.messages.list(thread_id=thread.id)\n",
    "for m in messages.data:\n",
    "    if m.role == \"assistant\":\n",
    "        # mensagem formatada de acordo com o schema v2\n",
    "        print(\"\\nResposta do Assistant:\")\n",
    "        print(m.content[0].text.value)"
   ]
  }
 ],
 "metadata": {
  "kernelspec": {
   "display_name": "Python 3 (ipykernel)",
   "language": "python",
   "name": "python3"
  },
  "language_info": {
   "codemirror_mode": {
    "name": "ipython",
    "version": 3
   },
   "file_extension": ".py",
   "mimetype": "text/x-python",
   "name": "python",
   "nbconvert_exporter": "python",
   "pygments_lexer": "ipython3",
   "version": "3.12.3"
  }
 },
 "nbformat": 4,
 "nbformat_minor": 4
}
