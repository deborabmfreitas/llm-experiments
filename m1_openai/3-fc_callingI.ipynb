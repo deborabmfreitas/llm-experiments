{
 "cells": [
  {
   "cell_type": "code",
   "execution_count": 1,
   "id": "1147192c-5feb-4b9d-ae17-60c316f5a5b4",
   "metadata": {},
   "outputs": [],
   "source": [
    "# Criação de uma function calling e teste da aplicação com a OpenAI"
   ]
  },
  {
   "cell_type": "code",
   "execution_count": 2,
   "id": "7867ee49-5143-4fa5-9b02-841786d8bfc1",
   "metadata": {},
   "outputs": [],
   "source": [
    "# Bibliotecas\n",
    "\n",
    "import json\n",
    "import openai\n",
    "from dotenv import load_dotenv\n",
    "import os"
   ]
  },
  {
   "cell_type": "code",
   "execution_count": 3,
   "id": "d612f0c5-8fdd-4ee7-840e-3d748052e636",
   "metadata": {},
   "outputs": [],
   "source": [
    "# Acessando API\n",
    "\n",
    "load_dotenv()\n",
    "secret_key = os.getenv(\"OPEN_API_KEY\")"
   ]
  },
  {
   "cell_type": "code",
   "execution_count": 4,
   "id": "e42aacbf-85bc-4f0b-ba11-dbc0a464e508",
   "metadata": {},
   "outputs": [],
   "source": [
    "client = openai.Client(api_key=secret_key)"
   ]
  },
  {
   "cell_type": "code",
   "execution_count": 5,
   "id": "5bfcaf7e-70b2-40d2-9a91-9ac460029e88",
   "metadata": {},
   "outputs": [],
   "source": [
    "# Função para calcular a hora\n",
    "\n",
    "def saudacao_por_periodo(hora):\n",
    "    if 5 <= hora < 12:\n",
    "        return json.dumps({'saudacao': 'Bom dia!'})\n",
    "    elif 12 <= hora < 18:\n",
    "        return json.dumps({'saudacao': 'Boa tarde!'})\n",
    "    elif 18 <= hora < 22:\n",
    "        return json.dumps({'saudacao': 'Boa noite!'})\n",
    "    else:\n",
    "        return json.dumps({'saudacao': 'Boa madrugada!'})"
   ]
  },
  {
   "cell_type": "markdown",
   "id": "594eac34-1693-419e-aab5-aa9418d696d4",
   "metadata": {},
   "source": [
    "* Definição de uma ferramenta (tool) no formato JSON, especificamente uma função que pode ser usada em sistemas que suportam chamadas de funções via API, como o Assistente OpenAI com capacidades de função (function calling).\n",
    "\n",
    "* `tools` é uma lista que contém um ou mais dicionários, cada um representando uma ferramenta/função disponível para o Assistente.\n",
    "\n",
    "* No exemplo, há apenas uma função definida (saudacao_por_periodo)."
   ]
  },
  {
   "cell_type": "code",
   "execution_count": 6,
   "id": "67d2d0db-f15d-4e21-94a7-51af2cb62965",
   "metadata": {},
   "outputs": [],
   "source": [
    "tools = [\n",
    "    {\n",
    "        'type': 'function',\n",
    "        'function': {\n",
    "            'name': 'saudacao_por_periodo',\n",
    "            'description': 'Retorna uma saudação baseada na hora do dia',\n",
    "            'parameters': {\n",
    "                'type': 'object',\n",
    "                'properties': {\n",
    "                    'hora': {\n",
    "                        'type': 'integer',\n",
    "                        'description': 'A hora do dia em formato de 24h',\n",
    "                    },\n",
    "                },\n",
    "                'required': ['hora']\n",
    "            }\n",
    "        }\n",
    "    }\n",
    "]"
   ]
  },
  {
   "cell_type": "code",
   "execution_count": 7,
   "id": "d5ae6dc2-8b02-41a2-9261-36e9a49d27d0",
   "metadata": {},
   "outputs": [],
   "source": [
    "# DE PARA entre a função e a tool para fazer o mapeamento entre elas\n",
    "\n",
    "funcao_disponivel = {\n",
    "    'saudacao_por_periodo': saudacao_por_periodo\n",
    "}"
   ]
  },
  {
   "cell_type": "code",
   "execution_count": 8,
   "id": "5bda4bbb-609a-41ff-a486-3445174b563b",
   "metadata": {},
   "outputs": [],
   "source": [
    "# Mensagens\n",
    "\n",
    "mensagens = [{'role':'user', 'content': 'Qual saudação o modelo me dá se for 10h?'}]"
   ]
  },
  {
   "cell_type": "code",
   "execution_count": 9,
   "id": "79a816cc-db55-403b-aa57-39e2d655f899",
   "metadata": {},
   "outputs": [],
   "source": [
    "# Resposta\n",
    "\n",
    "resposta = client.chat.completions.create(\n",
    "    model= 'gpt-3.5-turbo-0125',\n",
    "    messages=mensagens,\n",
    "    tools=tools,\n",
    "    tool_choice='auto'\n",
    ")"
   ]
  },
  {
   "cell_type": "code",
   "execution_count": 10,
   "id": "c882a79a-1e17-4da2-8ed2-528cfac4e411",
   "metadata": {},
   "outputs": [
    {
     "data": {
      "text/plain": [
       "ChatCompletionMessage(content=None, refusal=None, role='assistant', annotations=[], audio=None, function_call=None, tool_calls=[ChatCompletionMessageToolCall(id='call_7P4bBBktRvtLl6XMm6Nwj3Dm', function=Function(arguments='{\"hora\":10}', name='saudacao_por_periodo'), type='function')])"
      ]
     },
     "execution_count": 10,
     "metadata": {},
     "output_type": "execute_result"
    }
   ],
   "source": [
    "# Resposta\n",
    "mensagem_resp = resposta.choices[0].message\n",
    "mensagem_resp"
   ]
  },
  {
   "cell_type": "code",
   "execution_count": 11,
   "id": "f11a4595-b226-4620-b5c0-7cf1b21bc621",
   "metadata": {},
   "outputs": [
    {
     "data": {
      "text/plain": [
       "[ChatCompletionMessageToolCall(id='call_7P4bBBktRvtLl6XMm6Nwj3Dm', function=Function(arguments='{\"hora\":10}', name='saudacao_por_periodo'), type='function')]"
      ]
     },
     "execution_count": 11,
     "metadata": {},
     "output_type": "execute_result"
    }
   ],
   "source": [
    "tool_calls = mensagem_resp.tool_calls\n",
    "tool_calls"
   ]
  },
  {
   "cell_type": "code",
   "execution_count": 12,
   "id": "af51d444-dcb7-43ba-8673-c052aa0eb748",
   "metadata": {},
   "outputs": [],
   "source": [
    "# if tool_calls:\n",
    "#     mensagens.append(mensagem_resp)\n",
    "#     for tool_call in tool_calls:\n",
    "#         function_name = tool_call.function.name\n",
    "#         function_to_call = funcao_disponivel[function_name]\n",
    "#         function_args = json.loads(tool_call.function.arguments)\n",
    "#         function_response = function_to_call(\n",
    "#             hora = function_args.get(\"hora\")\n",
    "#         )\n",
    "        \n",
    "#         mensagens.append(\n",
    "#             {\n",
    "#                 \"tool_call_id\": tool_call.id,\n",
    "#                 \"role\": \"tool\",\n",
    "#                 \"name\": function_name,\n",
    "#                 \"content\": function_response\n",
    "#             }\n",
    "#         )\n",
    "    \n",
    "#     segunda_resposta = client.chat.completions.create(\n",
    "#         model=\"gpt-3.5-turbo-0125\",\n",
    "#         messages = mensagens\n",
    "#     )"
   ]
  },
  {
   "cell_type": "code",
   "execution_count": 13,
   "id": "6602d2af-4d6a-46c5-b334-0aec9993a137",
   "metadata": {},
   "outputs": [],
   "source": [
    "# mensagem_resposta = segunda_resposta.choices[0].message\n",
    "# mensagem_resposta"
   ]
  }
 ],
 "metadata": {
  "kernelspec": {
   "display_name": "Python 3 (ipykernel)",
   "language": "python",
   "name": "python3"
  },
  "language_info": {
   "codemirror_mode": {
    "name": "ipython",
    "version": 3
   },
   "file_extension": ".py",
   "mimetype": "text/x-python",
   "name": "python",
   "nbconvert_exporter": "python",
   "pygments_lexer": "ipython3",
   "version": "3.12.3"
  }
 },
 "nbformat": 4,
 "nbformat_minor": 5
}
