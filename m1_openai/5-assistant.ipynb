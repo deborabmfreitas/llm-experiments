{
 "cells": [
  {
   "cell_type": "code",
   "execution_count": 1,
   "id": "9b315aa6-c994-459a-a205-fb1e7ad0a8b6",
   "metadata": {},
   "outputs": [],
   "source": [
    "# Criando um assistant tutor de tecnologia"
   ]
  },
  {
   "cell_type": "markdown",
   "id": "347a659e-5e6a-4361-a183-ce59833bd224",
   "metadata": {},
   "source": [
    "Assistants:\n",
    "permitem a construção de agentes específicos referentes a vários tipos de conhecimentos."
   ]
  },
  {
   "cell_type": "code",
   "execution_count": 2,
   "id": "04fc5d1d-5e63-42ad-a0fa-c1aec8391206",
   "metadata": {},
   "outputs": [],
   "source": [
    "import openai\n",
    "from dotenv import load_dotenv\n",
    "import os"
   ]
  },
  {
   "cell_type": "code",
   "execution_count": 3,
   "id": "8860abf3-1503-4f81-9217-5f271e6b1078",
   "metadata": {},
   "outputs": [],
   "source": [
    "# Acessando API\n",
    "\n",
    "load_dotenv()\n",
    "secret_key = os.getenv(\"OPEN_API_KEY\")"
   ]
  },
  {
   "cell_type": "code",
   "execution_count": 4,
   "id": "5896fc37-08f4-4a90-b477-29d0a2b87e87",
   "metadata": {},
   "outputs": [],
   "source": [
    "client = openai.Client(api_key=secret_key)"
   ]
  },
  {
   "cell_type": "code",
   "execution_count": 5,
   "id": "5780b2e3-2519-4963-8104-090625ee71ea",
   "metadata": {},
   "outputs": [],
   "source": [
    "assistant = client.beta.assistants.create(\n",
    "    name='Tutor de Tecnologia',\n",
    "    instructions='Você é um tutor sobre assuntos relacionados a tecnologia',\n",
    "    tools=[{'type':'code_interpreter'}],\n",
    "    model='gpt-3.5-turbo-0125'\n",
    ")"
   ]
  },
  {
   "cell_type": "code",
   "execution_count": 6,
   "id": "8089bc4e-01ed-4df1-b14d-8a236783b589",
   "metadata": {},
   "outputs": [],
   "source": [
    "pergunta = \"\"\"\n",
    "Em um sistema de cache de mapeamento direto, dado uma memória principal de uma cache\n",
    "de 256 KB e blocos e blocos de 64 bytes:\n",
    "- Quantas linhas existem na cache?\n",
    "- Onde o bloco de endereço 0x1A23C será mapeado na cache?\n",
    "\"\"\""
   ]
  },
  {
   "cell_type": "code",
   "execution_count": 7,
   "id": "e7e091b6-da69-41e0-8d13-e065f23b3d73",
   "metadata": {},
   "outputs": [],
   "source": [
    "# Criação da Thread\n",
    "\n",
    "thread = client.beta.threads.create()\n",
    "message = client.beta.threads.messages.create(\n",
    "    thread_id = thread.id,\n",
    "    role='user',\n",
    "    content= pergunta\n",
    ")"
   ]
  },
  {
   "cell_type": "code",
   "execution_count": 8,
   "id": "d662eca8-a470-4edd-a386-530e451cf3fb",
   "metadata": {},
   "outputs": [],
   "source": [
    "# Executando a thread\n",
    "\n",
    "run = client.beta.threads.runs.create(\n",
    "    thread_id=thread.id,\n",
    "    assistant_id=assistant.id,\n",
    "    instructions='Nome de usuário premium'\n",
    ")"
   ]
  },
  {
   "cell_type": "code",
   "execution_count": 9,
   "id": "cdb2370a-3738-4dad-ba1a-05bf39ce2981",
   "metadata": {},
   "outputs": [
    {
     "data": {
      "text/plain": [
       "Run(id='run_UvBth9v2G3PdOLSjwPTj4jOZ', assistant_id='asst_xhSz0QsKhJm3TPuofye9LmlR', cancelled_at=None, completed_at=None, created_at=1745680859, expires_at=1745681459, failed_at=None, incomplete_details=None, instructions='Nome de usuário premium', last_error=None, max_completion_tokens=None, max_prompt_tokens=None, metadata={}, model='gpt-3.5-turbo-0125', object='thread.run', parallel_tool_calls=True, required_action=None, response_format='auto', started_at=None, status='queued', thread_id='thread_8W2VjdPfie33S6KoNCSctZZL', tool_choice='auto', tools=[CodeInterpreterTool(type='code_interpreter')], truncation_strategy=TruncationStrategy(type='auto', last_messages=None), usage=None, temperature=1.0, top_p=1.0, tool_resources={}, reasoning_effort=None)"
      ]
     },
     "execution_count": 9,
     "metadata": {},
     "output_type": "execute_result"
    }
   ],
   "source": [
    "run"
   ]
  },
  {
   "cell_type": "code",
   "execution_count": 10,
   "id": "b568b21b-9f26-4d8a-94d3-9fa04f20a568",
   "metadata": {},
   "outputs": [
    {
     "data": {
      "text/plain": [
       "'queued'"
      ]
     },
     "execution_count": 10,
     "metadata": {},
     "output_type": "execute_result"
    }
   ],
   "source": [
    "run.status"
   ]
  },
  {
   "cell_type": "markdown",
   "id": "e28a8bf1-c80f-48c9-a12f-b63bbac6dbd0",
   "metadata": {},
   "source": [
    "queued -> estado de fila para ser executada."
   ]
  },
  {
   "cell_type": "code",
   "execution_count": 11,
   "id": "f350d065-b153-4a1a-a636-c8d9a369ccaf",
   "metadata": {},
   "outputs": [],
   "source": [
    "# Aguardando a thread rodar\n",
    "\n",
    "import time\n",
    "while run.status in ['queued', 'in_progress', 'cancelling']:\n",
    "    time.sleep(1)\n",
    "    run=client.beta.threads.runs.retrieve(\n",
    "        thread_id=thread.id,\n",
    "        run_id=run.id\n",
    "    )"
   ]
  },
  {
   "cell_type": "code",
   "execution_count": 12,
   "id": "de2499cf-5ebd-4a8a-8513-8fc56dee863e",
   "metadata": {},
   "outputs": [
    {
     "name": "stdout",
     "output_type": "stream",
     "text": [
      "SyncCursorPage[Message](data=[Message(id='msg_XDumKYuAmqm6o1VrI1UlF63o', assistant_id='asst_xhSz0QsKhJm3TPuofye9LmlR', attachments=[], completed_at=None, content=[TextContentBlock(text=Text(annotations=[], value='O bloco de endereço 0x1A23C será mapeado na linha 572 da cache.\\n\\nPortanto, para um sistema de cache de mapeamento direto com uma memória cache de 256 KB e blocos de 64 bytes, existem 4096 linhas na cache e o bloco de endereço 0x1A23C será mapeado na linha 572 da cache.'), type='text')], created_at=1745680879, incomplete_at=None, incomplete_details=None, metadata={}, object='thread.message', role='assistant', run_id='run_UvBth9v2G3PdOLSjwPTj4jOZ', status=None, thread_id='thread_8W2VjdPfie33S6KoNCSctZZL'), Message(id='msg_RlBriyGLmd5JM8uwAXgtZx4j', assistant_id='asst_xhSz0QsKhJm3TPuofye9LmlR', attachments=[], completed_at=None, content=[TextContentBlock(text=Text(annotations=[], value=\"Os bits de índice da cache para o endereço 0x1A23C são '001000111100'.\\n\\nPara determinar em qual linha da cache o bloco de endereço 0x1A23C será mapeado, podemos converter esses bits de índice de volta para decimal. Vamos fazer isso agora.\"), type='text')], created_at=1745680877, incomplete_at=None, incomplete_details=None, metadata={}, object='thread.message', role='assistant', run_id='run_UvBth9v2G3PdOLSjwPTj4jOZ', status=None, thread_id='thread_8W2VjdPfie33S6KoNCSctZZL'), Message(id='msg_159wr599bHFKxz0Kox9q87EL', assistant_id='asst_xhSz0QsKhJm3TPuofye9LmlR', attachments=[], completed_at=None, content=[TextContentBlock(text=Text(annotations=[], value=\"O endereço 0x1A23C em binário é '0b11010001000111100'.\\n\\nAgora, vamos analisar a estrutura do endereço binário para determinar a linha da cache em que o bloco será mapeado. Vamos considerar que a cache tem 4096 linhas, o que significa que precisaremos de 12 bits para endereçar cada linha. Vamos identificar esses bits a partir do endereço binário.\"), type='text')], created_at=1745680873, incomplete_at=None, incomplete_details=None, metadata={}, object='thread.message', role='assistant', run_id='run_UvBth9v2G3PdOLSjwPTj4jOZ', status=None, thread_id='thread_8W2VjdPfie33S6KoNCSctZZL'), Message(id='msg_31Ppt1rn1Q7MtgjjbNWE1fge', assistant_id='asst_xhSz0QsKhJm3TPuofye9LmlR', attachments=[], completed_at=None, content=[TextContentBlock(text=Text(annotations=[], value='A cache de mapeamento direto tem 4096 linhas.\\n\\nAgora vamos determinar onde o bloco de endereço 0x1A23C será mapeado na cache. Para isso, precisamos considerar o processo de indexação do endereço, onde bits específicos são usados para identificar a linha na cache em que um bloco será mapeado.\\n\\nPrimeiro, vamos converter o endereço 0x1A23C para binário para facilitar a análise. Em seguida, identificaremos qual linha da cache o bloco será mapeado.'), type='text')], created_at=1745680870, incomplete_at=None, incomplete_details=None, metadata={}, object='thread.message', role='assistant', run_id='run_UvBth9v2G3PdOLSjwPTj4jOZ', status=None, thread_id='thread_8W2VjdPfie33S6KoNCSctZZL'), Message(id='msg_9fhtUzxxJcBfJIUkmHPtppDr', assistant_id='asst_xhSz0QsKhJm3TPuofye9LmlR', attachments=[], completed_at=None, content=[TextContentBlock(text=Text(annotations=[], value='Para calcular a quantidade de linhas na cache, primeiro precisamos determinar o tamanho de cada bloco em bits e, em seguida, podemos calcular o número de linhas na cache.\\n\\nDado que a cache possui 256 KB de tamanho e os blocos têm 64 bytes, podemos seguir os seguintes passos para encontrar as respostas:\\n\\n1. Calcular o tamanho de cada bloco em bits.\\n2. Calcular o número de linhas na cache.\\n3. Determinar onde o bloco de endereço 0x1A23C será mapeado na cache.\\n\\nVamos começar calculando o número de linhas na cache:'), type='text')], created_at=1745680866, incomplete_at=None, incomplete_details=None, metadata={}, object='thread.message', role='assistant', run_id='run_UvBth9v2G3PdOLSjwPTj4jOZ', status=None, thread_id='thread_8W2VjdPfie33S6KoNCSctZZL'), Message(id='msg_q71Jt4sqlV9BTUdJBZQ8YYI6', assistant_id=None, attachments=[], completed_at=None, content=[TextContentBlock(text=Text(annotations=[], value='\\nEm um sistema de cache de mapeamento direto, dado uma memória principal de uma cache\\nde 256 KB e blocos e blocos de 64 bytes:\\n- Quantas linhas existem na cache?\\n- Onde o bloco de endereço 0x1A23C será mapeado na cache?\\n'), type='text')], created_at=1745680858, incomplete_at=None, incomplete_details=None, metadata={}, object='thread.message', role='user', run_id=None, status=None, thread_id='thread_8W2VjdPfie33S6KoNCSctZZL')], has_more=False, object='list', first_id='msg_XDumKYuAmqm6o1VrI1UlF63o', last_id='msg_q71Jt4sqlV9BTUdJBZQ8YYI6')\n"
     ]
    }
   ],
   "source": [
    "# Verificando a resposta\n",
    "\n",
    "if run.status == 'completed':\n",
    "    mensagens = client.beta.threads.messages.list(\n",
    "        thread_id=thread.id\n",
    "    )\n",
    "    print(mensagens)\n",
    "else:\n",
    "    print(f'Erro{run.status}')"
   ]
  },
  {
   "cell_type": "code",
   "execution_count": 13,
   "id": "ed53e5cd-5cb3-4f72-a1c3-40379a62a75d",
   "metadata": {},
   "outputs": [
    {
     "name": "stdout",
     "output_type": "stream",
     "text": [
      "O bloco de endereço 0x1A23C será mapeado na linha 572 da cache.\n",
      "\n",
      "Portanto, para um sistema de cache de mapeamento direto com uma memória cache de 256 KB e blocos de 64 bytes, existem 4096 linhas na cache e o bloco de endereço 0x1A23C será mapeado na linha 572 da cache.\n"
     ]
    }
   ],
   "source": [
    "# Demonstrando a resposta\n",
    "\n",
    "print(mensagens.data[0].content[0].text.value)"
   ]
  },
  {
   "cell_type": "code",
   "execution_count": 14,
   "id": "535cf3f7-c1b3-4692-9732-82a519ceca43",
   "metadata": {},
   "outputs": [],
   "source": [
    "# Analisando os passos do modelo\n",
    "\n",
    "run_steps = client.beta.threads.runs.steps.list(\n",
    "    thread_id=thread.id,\n",
    "    run_id=run.id\n",
    ")"
   ]
  },
  {
   "cell_type": "code",
   "execution_count": 15,
   "id": "a09f6ca8-dc93-49f7-b11c-6423b77228ce",
   "metadata": {},
   "outputs": [
    {
     "name": "stdout",
     "output_type": "stream",
     "text": [
      "\n",
      "====Step message_creation\n",
      "Para calcular a quantidade de linhas na cache, primeiro precisamos determinar o tamanho de cada bloco em bits e, em seguida, podemos calcular o número de linhas na cache.\n",
      "\n",
      "Dado que a cache possui 256 KB de tamanho e os blocos têm 64 bytes, podemos seguir os seguintes passos para encontrar as respostas:\n",
      "\n",
      "1. Calcular o tamanho de cada bloco em bits.\n",
      "2. Calcular o número de linhas na cache.\n",
      "3. Determinar onde o bloco de endereço 0x1A23C será mapeado na cache.\n",
      "\n",
      "Vamos começar calculando o número de linhas na cache:\n",
      "\n",
      "====Step tool_calls\n",
      "==========\n",
      "# Tamanho da cache em bytes\n",
      "cache_size_kb = 256\n",
      "cache_size_bytes = cache_size_kb * 1024\n",
      "\n",
      "# Tamanho do bloco em bytes\n",
      "block_size_bytes = 64\n",
      "\n",
      "# Calculando o número de linhas na cache\n",
      "num_lines_cache = cache_size_bytes // block_size_bytes\n",
      "num_lines_cache\n",
      "==========\n",
      "\n",
      "====Step message_creation\n",
      "A cache de mapeamento direto tem 4096 linhas.\n",
      "\n",
      "Agora vamos determinar onde o bloco de endereço 0x1A23C será mapeado na cache. Para isso, precisamos considerar o processo de indexação do endereço, onde bits específicos são usados para identificar a linha na cache em que um bloco será mapeado.\n",
      "\n",
      "Primeiro, vamos converter o endereço 0x1A23C para binário para facilitar a análise. Em seguida, identificaremos qual linha da cache o bloco será mapeado.\n",
      "\n",
      "====Step tool_calls\n",
      "==========\n",
      "# Convertendo o endereço 0x1A23C para binário\n",
      "address = 0x1A23C\n",
      "binary_address = bin(address)\n",
      "binary_address\n",
      "==========\n",
      "\n",
      "====Step message_creation\n",
      "O endereço 0x1A23C em binário é '0b11010001000111100'.\n",
      "\n",
      "Agora, vamos analisar a estrutura do endereço binário para determinar a linha da cache em que o bloco será mapeado. Vamos considerar que a cache tem 4096 linhas, o que significa que precisaremos de 12 bits para endereçar cada linha. Vamos identificar esses bits a partir do endereço binário.\n",
      "\n",
      "====Step tool_calls\n",
      "==========\n",
      "# Número de bits necessários para endereçar cada linha na cache (log2 do número de linhas)\n",
      "import math\n",
      "num_bits_index = math.ceil(math.log2(num_lines_cache))\n",
      "\n",
      "# Obtendo os bits de índice do endereço binário\n",
      "index_bits = binary_address[-num_bits_index:]\n",
      "index_bits\n",
      "==========\n",
      "\n",
      "====Step message_creation\n",
      "Os bits de índice da cache para o endereço 0x1A23C são '001000111100'.\n",
      "\n",
      "Para determinar em qual linha da cache o bloco de endereço 0x1A23C será mapeado, podemos converter esses bits de índice de volta para decimal. Vamos fazer isso agora.\n",
      "\n",
      "====Step tool_calls\n",
      "==========\n",
      "# Convertendo os bits de índice para decimal\n",
      "index_decimal = int(index_bits, 2)\n",
      "index_decimal\n",
      "==========\n",
      "\n",
      "====Step message_creation\n",
      "O bloco de endereço 0x1A23C será mapeado na linha 572 da cache.\n",
      "\n",
      "Portanto, para um sistema de cache de mapeamento direto com uma memória cache de 256 KB e blocos de 64 bytes, existem 4096 linhas na cache e o bloco de endereço 0x1A23C será mapeado na linha 572 da cache.\n"
     ]
    }
   ],
   "source": [
    "# Passos que o modelo utilizou para resolver o problema\n",
    "\n",
    "for step in run_steps.data[::-1]:\n",
    "    print(f\"\\n====Step {step.step_details.type}\")\n",
    "    if step.step_details.type == \"tool_calls\":\n",
    "        for tool_call in step.step_details.tool_calls:\n",
    "            print(\"=\" *10)\n",
    "            print(tool_call.code_interpreter.input)\n",
    "            print(\"=\"*10)\n",
    "    if step.step_details.type == \"message_creation\":\n",
    "        message = client.beta.threads.messages.retrieve(\n",
    "            thread_id=thread.id,\n",
    "            message_id=step.step_details.message_creation.message_id\n",
    "        )\n",
    "        \n",
    "        print(message.content[0].text.value)"
   ]
  }
 ],
 "metadata": {
  "kernelspec": {
   "display_name": "Python 3 (ipykernel)",
   "language": "python",
   "name": "python3"
  },
  "language_info": {
   "codemirror_mode": {
    "name": "ipython",
    "version": 3
   },
   "file_extension": ".py",
   "mimetype": "text/x-python",
   "name": "python",
   "nbconvert_exporter": "python",
   "pygments_lexer": "ipython3",
   "version": "3.12.3"
  }
 },
 "nbformat": 4,
 "nbformat_minor": 5
}
