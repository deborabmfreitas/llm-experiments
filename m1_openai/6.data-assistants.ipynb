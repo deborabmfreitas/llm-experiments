{
 "cells": [
  {
   "cell_type": "markdown",
   "id": "598de8ef-116e-40f3-af7c-c34d02e85d44",
   "metadata": {},
   "source": [
    "# Data assistants\n",
    "Objetivo: criar um assistant com aplicação em análise de dados."
   ]
  },
  {
   "cell_type": "code",
   "execution_count": 1,
   "id": "91c18648-8c3f-4156-8b02-1212c9be327a",
   "metadata": {},
   "outputs": [],
   "source": [
    "# Bibliotecas\n",
    "\n",
    "import csv\n",
    "import random\n",
    "from faker import Faker # gera dados fictícios\n",
    "from datetime import datetime, timedelta\n",
    "import pandas as pd\n",
    "from dotenv import load_dotenv\n",
    "import os\n",
    "import openai"
   ]
  },
  {
   "cell_type": "code",
   "execution_count": 2,
   "id": "6586048b-59e4-4b19-9199-d2ec5061ff37",
   "metadata": {},
   "outputs": [],
   "source": [
    "# Inicializando a biblioteca Faker\n",
    "\n",
    "fake = Faker()"
   ]
  },
  {
   "cell_type": "markdown",
   "id": "d15e447f-a3ed-4a86-9fde-6da6e5a6cedb",
   "metadata": {},
   "source": [
    "# Generate csv"
   ]
  },
  {
   "cell_type": "code",
   "execution_count": 3,
   "id": "c37f0ee0-4808-47e7-b31b-92c48853e10a",
   "metadata": {},
   "outputs": [],
   "source": [
    "# Função para gerar dados fictícios\n",
    "def generate_data():\n",
    "    invoice_id = fake.uuid4()[:8]\n",
    "    branch = random.choice([\"A\", \"B\", \"C\"])\n",
    "    city = random.choice([\"City A\", \"City B\", \"City C\"])\n",
    "    customer_type = random.choice([\"Member\", \"Normal\"])\n",
    "    gender = random.choice([\"Male\", \"Female\"])\n",
    "    product_line = random.choice([\n",
    "        \"Health and beauty\",\n",
    "        \"Electronic accessories\",\n",
    "        \"Home and lifestyle\",\n",
    "        \"Sports and travel\",\n",
    "        \"Food and beverages\",\n",
    "        \"Fashion accessories\",\n",
    "    ])\n",
    "    unit_price = round(random.uniform(10, 100), 2)\n",
    "    quantity = random.randint(1, 10)\n",
    "    tax = round((unit_price * quantity) * 0.05, 2)\n",
    "    total = round((unit_price * quantity) + tax, 2)\n",
    "    date = fake.date_between(start_date=\"-1y\", end_date=\"today\").strftime(\"%Y-%m-%d\")\n",
    "    time = fake.time(pattern=\"%H:%M:%S\")\n",
    "    payment = random.choice([\"Cash\", \"Credit card\", \"Ewallet\"])\n",
    "    cogs = round(unit_price * quantity, 2)\n",
    "    gross_margin_percentage = 4.76  # Valor fixo conforme especificação\n",
    "    gross_income = tax  # Taxa de 5% é o lucro bruto\n",
    "    rating = round(random.uniform(4, 10), 1)\n",
    "\n",
    "    return [\n",
    "        invoice_id,\n",
    "        branch,\n",
    "        city,\n",
    "        customer_type,\n",
    "        gender,\n",
    "        product_line,\n",
    "        unit_price,\n",
    "        quantity,\n",
    "        tax,\n",
    "        total,\n",
    "        date,\n",
    "        time,\n",
    "        payment,\n",
    "        cogs,\n",
    "        gross_margin_percentage,\n",
    "        gross_income,\n",
    "        rating,\n",
    "    ]\n",
    "\n",
    "# Cabeçalho do arquivo CSV\n",
    "header = [\n",
    "    \"Invoice ID\",\n",
    "    \"Branch\",\n",
    "    \"City\",\n",
    "    \"Customer type\",\n",
    "    \"Gender\",\n",
    "    \"Product line\",\n",
    "    \"Unit price\",\n",
    "    \"Quantity\",\n",
    "    \"Tax 5%\",\n",
    "    \"Total\",\n",
    "    \"Date\",\n",
    "    \"Time\",\n",
    "    \"Payment\",\n",
    "    \"cogs\",\n",
    "    \"gross margin percentage\",\n",
    "    \"gross income\",\n",
    "    \"Rating\",\n",
    "]"
   ]
  },
  {
   "cell_type": "code",
   "execution_count": 4,
   "id": "324d5902-31a2-4555-bbf6-8a057b93f2d2",
   "metadata": {},
   "outputs": [
    {
     "name": "stdout",
     "output_type": "stream",
     "text": [
      "Arquivo 'sales_data.csv' gerado com sucesso!\n"
     ]
    }
   ],
   "source": [
    "# Gerar e salvar os dados em um arquivo CSV\n",
    "with open(\"files/sales_data.csv\", mode=\"w\", newline=\"\", encoding=\"utf-8\") as file:\n",
    "    writer = csv.writer(file)\n",
    "    writer.writerow(header)\n",
    "\n",
    "    for _ in range(300):\n",
    "        writer.writerow(generate_data())\n",
    "\n",
    "print(\"Arquivo 'sales_data.csv' gerado com sucesso!\")"
   ]
  },
  {
   "cell_type": "markdown",
   "id": "03579638-78be-49b9-9206-5edbeee50a45",
   "metadata": {},
   "source": [
    "## Verificando os dados gerados"
   ]
  },
  {
   "cell_type": "code",
   "execution_count": 5,
   "id": "38b1a27c-fb28-483f-bd6d-c70845f2124a",
   "metadata": {},
   "outputs": [
    {
     "data": {
      "text/html": [
       "<div>\n",
       "<style scoped>\n",
       "    .dataframe tbody tr th:only-of-type {\n",
       "        vertical-align: middle;\n",
       "    }\n",
       "\n",
       "    .dataframe tbody tr th {\n",
       "        vertical-align: top;\n",
       "    }\n",
       "\n",
       "    .dataframe thead th {\n",
       "        text-align: right;\n",
       "    }\n",
       "</style>\n",
       "<table border=\"1\" class=\"dataframe\">\n",
       "  <thead>\n",
       "    <tr style=\"text-align: right;\">\n",
       "      <th></th>\n",
       "      <th>Invoice ID</th>\n",
       "      <th>Branch</th>\n",
       "      <th>City</th>\n",
       "      <th>Customer type</th>\n",
       "      <th>Gender</th>\n",
       "      <th>Product line</th>\n",
       "      <th>Unit price</th>\n",
       "      <th>Quantity</th>\n",
       "      <th>Tax 5%</th>\n",
       "      <th>Total</th>\n",
       "      <th>Date</th>\n",
       "      <th>Time</th>\n",
       "      <th>Payment</th>\n",
       "      <th>cogs</th>\n",
       "      <th>gross margin percentage</th>\n",
       "      <th>gross income</th>\n",
       "      <th>Rating</th>\n",
       "    </tr>\n",
       "  </thead>\n",
       "  <tbody>\n",
       "    <tr>\n",
       "      <th>0</th>\n",
       "      <td>891c16f1</td>\n",
       "      <td>C</td>\n",
       "      <td>City A</td>\n",
       "      <td>Member</td>\n",
       "      <td>Male</td>\n",
       "      <td>Fashion accessories</td>\n",
       "      <td>20.53</td>\n",
       "      <td>6</td>\n",
       "      <td>6.16</td>\n",
       "      <td>129.34</td>\n",
       "      <td>2024-07-12</td>\n",
       "      <td>23:53:37</td>\n",
       "      <td>Ewallet</td>\n",
       "      <td>123.18</td>\n",
       "      <td>4.76</td>\n",
       "      <td>6.16</td>\n",
       "      <td>8.0</td>\n",
       "    </tr>\n",
       "    <tr>\n",
       "      <th>1</th>\n",
       "      <td>721920e0</td>\n",
       "      <td>C</td>\n",
       "      <td>City B</td>\n",
       "      <td>Normal</td>\n",
       "      <td>Female</td>\n",
       "      <td>Health and beauty</td>\n",
       "      <td>92.91</td>\n",
       "      <td>1</td>\n",
       "      <td>4.65</td>\n",
       "      <td>97.56</td>\n",
       "      <td>2025-02-26</td>\n",
       "      <td>01:09:16</td>\n",
       "      <td>Credit card</td>\n",
       "      <td>92.91</td>\n",
       "      <td>4.76</td>\n",
       "      <td>4.65</td>\n",
       "      <td>8.4</td>\n",
       "    </tr>\n",
       "    <tr>\n",
       "      <th>2</th>\n",
       "      <td>4e14f726</td>\n",
       "      <td>C</td>\n",
       "      <td>City B</td>\n",
       "      <td>Member</td>\n",
       "      <td>Male</td>\n",
       "      <td>Electronic accessories</td>\n",
       "      <td>35.93</td>\n",
       "      <td>5</td>\n",
       "      <td>8.98</td>\n",
       "      <td>188.63</td>\n",
       "      <td>2025-03-22</td>\n",
       "      <td>16:51:41</td>\n",
       "      <td>Credit card</td>\n",
       "      <td>179.65</td>\n",
       "      <td>4.76</td>\n",
       "      <td>8.98</td>\n",
       "      <td>6.0</td>\n",
       "    </tr>\n",
       "    <tr>\n",
       "      <th>3</th>\n",
       "      <td>f139037f</td>\n",
       "      <td>B</td>\n",
       "      <td>City B</td>\n",
       "      <td>Normal</td>\n",
       "      <td>Male</td>\n",
       "      <td>Food and beverages</td>\n",
       "      <td>29.77</td>\n",
       "      <td>9</td>\n",
       "      <td>13.40</td>\n",
       "      <td>281.33</td>\n",
       "      <td>2024-06-03</td>\n",
       "      <td>02:32:08</td>\n",
       "      <td>Credit card</td>\n",
       "      <td>267.93</td>\n",
       "      <td>4.76</td>\n",
       "      <td>13.40</td>\n",
       "      <td>4.3</td>\n",
       "    </tr>\n",
       "    <tr>\n",
       "      <th>4</th>\n",
       "      <td>d6225cfa</td>\n",
       "      <td>B</td>\n",
       "      <td>City B</td>\n",
       "      <td>Member</td>\n",
       "      <td>Male</td>\n",
       "      <td>Food and beverages</td>\n",
       "      <td>57.04</td>\n",
       "      <td>4</td>\n",
       "      <td>11.41</td>\n",
       "      <td>239.57</td>\n",
       "      <td>2024-07-08</td>\n",
       "      <td>03:39:21</td>\n",
       "      <td>Ewallet</td>\n",
       "      <td>228.16</td>\n",
       "      <td>4.76</td>\n",
       "      <td>11.41</td>\n",
       "      <td>4.9</td>\n",
       "    </tr>\n",
       "  </tbody>\n",
       "</table>\n",
       "</div>"
      ],
      "text/plain": [
       "  Invoice ID Branch    City Customer type  Gender            Product line  \\\n",
       "0   891c16f1      C  City A        Member    Male     Fashion accessories   \n",
       "1   721920e0      C  City B        Normal  Female       Health and beauty   \n",
       "2   4e14f726      C  City B        Member    Male  Electronic accessories   \n",
       "3   f139037f      B  City B        Normal    Male      Food and beverages   \n",
       "4   d6225cfa      B  City B        Member    Male      Food and beverages   \n",
       "\n",
       "   Unit price  Quantity  Tax 5%   Total        Date      Time      Payment  \\\n",
       "0       20.53         6    6.16  129.34  2024-07-12  23:53:37      Ewallet   \n",
       "1       92.91         1    4.65   97.56  2025-02-26  01:09:16  Credit card   \n",
       "2       35.93         5    8.98  188.63  2025-03-22  16:51:41  Credit card   \n",
       "3       29.77         9   13.40  281.33  2024-06-03  02:32:08  Credit card   \n",
       "4       57.04         4   11.41  239.57  2024-07-08  03:39:21      Ewallet   \n",
       "\n",
       "     cogs  gross margin percentage  gross income  Rating  \n",
       "0  123.18                     4.76          6.16     8.0  \n",
       "1   92.91                     4.76          4.65     8.4  \n",
       "2  179.65                     4.76          8.98     6.0  \n",
       "3  267.93                     4.76         13.40     4.3  \n",
       "4  228.16                     4.76         11.41     4.9  "
      ]
     },
     "execution_count": 5,
     "metadata": {},
     "output_type": "execute_result"
    }
   ],
   "source": [
    "data = pd.read_csv('files/sales_data.csv')\n",
    "data.head()"
   ]
  },
  {
   "cell_type": "markdown",
   "id": "90210dbf-9108-4aa5-8e94-457322840ec3",
   "metadata": {},
   "source": [
    "# OpenAI"
   ]
  },
  {
   "cell_type": "code",
   "execution_count": 6,
   "id": "4cc0b39a-f1e1-422a-8d17-26b3084c4b78",
   "metadata": {},
   "outputs": [],
   "source": [
    "# Acessando a API\n",
    "\n",
    "load_dotenv()\n",
    "secret_key = os.getenv('OPEN_API_KEY')"
   ]
  },
  {
   "cell_type": "code",
   "execution_count": 7,
   "id": "a08431f7-46b1-498c-a32f-eaa8aabba4ee",
   "metadata": {},
   "outputs": [],
   "source": [
    "# Instanciando \n",
    "\n",
    "client = openai.Client(api_key=secret_key)"
   ]
  },
  {
   "cell_type": "code",
   "execution_count": 8,
   "id": "9e48b1ed-9169-4311-b47d-e15aad263793",
   "metadata": {},
   "outputs": [],
   "source": [
    "file = client.files.create(\n",
    "    file=open('files/sales_data.csv', 'rb'),\n",
    "    purpose='assistants'\n",
    ")"
   ]
  },
  {
   "cell_type": "code",
   "execution_count": 9,
   "id": "2d9240a9-4b3e-4ee6-919f-6b995d993fc3",
   "metadata": {},
   "outputs": [
    {
     "name": "stdout",
     "output_type": "stream",
     "text": [
      "file-8kLvTch5wjqj9StW7oxxA3\n"
     ]
    }
   ],
   "source": [
    "print(file.id)"
   ]
  },
  {
   "cell_type": "code",
   "execution_count": 10,
   "id": "afcc597c-ee3b-4cde-9c56-4aa6b8675f99",
   "metadata": {},
   "outputs": [],
   "source": [
    "assistant = client.beta.assistants.create(\n",
    "    name=\"Analista de Dados\",\n",
    "    instructions=\"Você é um analista que analisa dados da área de vendas\",\n",
    "    tools=[{\"type\":\"code_interpreter\"}],\n",
    "    tool_resources={\"code_interpreter\":{\"file_ids\":[file.id]}},\n",
    "    model=\"gpt-4o\"\n",
    ")"
   ]
  },
  {
   "cell_type": "code",
   "execution_count": 11,
   "id": "30273eb4-c35e-47af-8806-fa5ab981841c",
   "metadata": {},
   "outputs": [],
   "source": [
    "#pergunta = \"Qual o rating médio das vendas do supermercado\"\n",
    "pergunta = \"Gere um gráfico de barras com o percentual de vendas por linha de produto\""
   ]
  },
  {
   "cell_type": "code",
   "execution_count": 12,
   "id": "db6d0459-ef39-473d-a41c-365fb5ac74d6",
   "metadata": {},
   "outputs": [],
   "source": [
    "# Criação da Thread\n",
    "thread = client.beta.threads.create()\n",
    "message = client.beta.threads.messages.create(\n",
    "    thread_id=thread.id,\n",
    "    role=\"user\",\n",
    "    content=pergunta\n",
    ")"
   ]
  },
  {
   "cell_type": "code",
   "execution_count": 13,
   "id": "277ac28f-a034-4563-88d4-dee61461a97d",
   "metadata": {},
   "outputs": [],
   "source": [
    "# Executa a thread\n",
    "run = client.beta.threads.runs.create(\n",
    "    thread_id=thread.id,\n",
    "    assistant_id=assistant.id,\n",
    "    instructions=\"Nome de usuário premium\"\n",
    ")"
   ]
  },
  {
   "cell_type": "code",
   "execution_count": 14,
   "id": "2297e317-738d-445a-aa06-f0508943714c",
   "metadata": {},
   "outputs": [],
   "source": [
    "# Aguarda a thread rodar\n",
    "import time\n",
    "while run.status in [\"queued\", \"in_progress\", \"cancelling\"]:\n",
    "    time.sleep(1)\n",
    "    run = client.beta.threads.runs.retrieve(\n",
    "        thread_id=thread.id,\n",
    "        run_id=run.id\n",
    "    )"
   ]
  },
  {
   "cell_type": "code",
   "execution_count": 15,
   "id": "e8fe5dae-8909-45fb-b8c9-c79c16d3d1dd",
   "metadata": {},
   "outputs": [
    {
     "name": "stdout",
     "output_type": "stream",
     "text": [
      "SyncCursorPage[Message](data=[Message(id='msg_IQwNatw1l8fzEOtwLmTg1iUx', assistant_id='asst_9qKO9eZ0qY7aTNx6VOloQren', attachments=[], completed_at=None, content=[ImageFileContentBlock(image_file=ImageFile(file_id='file-TLuhcYcm4wuk3yXucscUmV', detail=None), type='image_file'), TextContentBlock(text=Text(annotations=[], value='Aqui está o gráfico de barras que mostra o percentual de vendas por linha de produto. Cada barra representa a contribuição percentual de cada linha de produto para o total de vendas. Se precisar de mais alguma coisa ou outras análises, é só avisar!'), type='text')], created_at=1745694856, incomplete_at=None, incomplete_details=None, metadata={}, object='thread.message', role='assistant', run_id='run_uE7CEEcDrT21nI3YBBFVTXLD', status=None, thread_id='thread_5URg0di7GWGHUTBEGEhy5cdg'), Message(id='msg_uOz3VXYgomz8auiZkWYTeCOW', assistant_id='asst_9qKO9eZ0qY7aTNx6VOloQren', attachments=[], completed_at=None, content=[TextContentBlock(text=Text(annotations=[], value='Os dados contêm várias colunas, das quais as relevantes para nossa análise são:\\n\\n- `Product line`: A linha de produto da venda.\\n- `Total`: O valor total de cada transação.\\n\\nVamos agora calcular o percentual das vendas totais para cada linha de produto e exibir essa informação em um gráfico de barras.'), type='text')], created_at=1745694848, incomplete_at=None, incomplete_details=None, metadata={}, object='thread.message', role='assistant', run_id='run_uE7CEEcDrT21nI3YBBFVTXLD', status=None, thread_id='thread_5URg0di7GWGHUTBEGEhy5cdg'), Message(id='msg_YrdveqNbuIDwUn26Xu823peO', assistant_id='asst_9qKO9eZ0qY7aTNx6VOloQren', attachments=[], completed_at=None, content=[TextContentBlock(text=Text(annotations=[], value='Para gerar um gráfico de barras com o percentual de vendas por linha de produto, vamos primeiro examinar o conteúdo do arquivo que você carregou. Isso nos ajudará a entender a estrutura dos dados e a identificar as colunas relevantes. Vou começar lendo o arquivo.'), type='text')], created_at=1745694845, incomplete_at=None, incomplete_details=None, metadata={}, object='thread.message', role='assistant', run_id='run_uE7CEEcDrT21nI3YBBFVTXLD', status=None, thread_id='thread_5URg0di7GWGHUTBEGEhy5cdg'), Message(id='msg_69VCy0WEUwhA4mu7ZJbPyBVJ', assistant_id=None, attachments=[], completed_at=None, content=[TextContentBlock(text=Text(annotations=[], value='Gere um gráfico de barras com o percentual de vendas por linha de produto'), type='text')], created_at=1745694842, incomplete_at=None, incomplete_details=None, metadata={}, object='thread.message', role='user', run_id=None, status=None, thread_id='thread_5URg0di7GWGHUTBEGEhy5cdg')], has_more=False, object='list', first_id='msg_IQwNatw1l8fzEOtwLmTg1iUx', last_id='msg_69VCy0WEUwhA4mu7ZJbPyBVJ')\n"
     ]
    }
   ],
   "source": [
    "# Verifica a resposta\n",
    "if run.status == \"completed\":\n",
    "    mensagens = client.beta.threads.messages.list(\n",
    "        thread_id=thread.id\n",
    "    )\n",
    "    print(mensagens)\n",
    "else:\n",
    "    print(f\"Erro {run.status}\")"
   ]
  },
  {
   "cell_type": "code",
   "execution_count": 16,
   "id": "7ca5301d-8e77-4a39-ab51-7fba307fc70b",
   "metadata": {},
   "outputs": [],
   "source": [
    "# mensagens.data[0].content[0].text.value"
   ]
  },
  {
   "cell_type": "code",
   "execution_count": 17,
   "id": "080db9de-8018-4fd5-8d44-817320671cae",
   "metadata": {},
   "outputs": [],
   "source": [
    "# Analisando os passos do modelo\n",
    "run_steps = client.beta.threads.runs.steps.list(\n",
    "    thread_id=thread.id,\n",
    "    run_id=run.id\n",
    ")"
   ]
  },
  {
   "cell_type": "code",
   "execution_count": 18,
   "id": "b95a13ab-9df9-4dd6-9d2e-e160a979eb59",
   "metadata": {},
   "outputs": [
    {
     "name": "stdout",
     "output_type": "stream",
     "text": [
      "\n",
      "====Step message_creation\n",
      "Para gerar um gráfico de barras com o percentual de vendas por linha de produto, vamos primeiro examinar o conteúdo do arquivo que você carregou. Isso nos ajudará a entender a estrutura dos dados e a identificar as colunas relevantes. Vou começar lendo o arquivo.\n",
      "\n",
      "====Step tool_calls\n",
      "==========\n",
      "import pandas as pd\n",
      "\n",
      "# Ler o arquivo para verificar o conteúdo\n",
      "file_path = '/mnt/data/file-8kLvTch5wjqj9StW7oxxA3'\n",
      "data = pd.read_csv(file_path)\n",
      "\n",
      "# Mostrar as primeiras linhas do dataframe\n",
      "data.head()\n",
      "==========\n",
      "\n",
      "====Step message_creation\n",
      "Os dados contêm várias colunas, das quais as relevantes para nossa análise são:\n",
      "\n",
      "- `Product line`: A linha de produto da venda.\n",
      "- `Total`: O valor total de cada transação.\n",
      "\n",
      "Vamos agora calcular o percentual das vendas totais para cada linha de produto e exibir essa informação em um gráfico de barras.\n",
      "\n",
      "====Step tool_calls\n",
      "==========\n",
      "import matplotlib.pyplot as plt\n",
      "\n",
      "# Calcular o total de vendas por linha de produto\n",
      "total_sales_by_product_line = data.groupby('Product line')['Total'].sum()\n",
      "\n",
      "# Calcular o percentual de vendas para cada linha de produto\n",
      "percent_sales_by_product_line = (total_sales_by_product_line / total_sales_by_product_line.sum()) * 100\n",
      "\n",
      "# Gerar o gráfico de barras\n",
      "plt.figure(figsize=(10, 6))\n",
      "percent_sales_by_product_line.plot(kind='bar', color='skyblue')\n",
      "plt.title('Percentual de Vendas por Linha de Produto')\n",
      "plt.ylabel('Percentual de Vendas (%)')\n",
      "plt.xlabel('Linha de Produto')\n",
      "plt.xticks(rotation=45, ha='right')\n",
      "plt.tight_layout()\n",
      "\n",
      "# Mostrar o gráfico\n",
      "plt.show()\n",
      "==========\n",
      "\n",
      "====Step message_creation\n",
      "Imagem file-TLuhcYcm4wuk3yXucscUmV salva\n"
     ]
    }
   ],
   "source": [
    "for step in run_steps.data[::-1]:\n",
    "    print(f\"\\n====Step {step.step_details.type}\")\n",
    "    if step.step_details.type == \"tool_calls\":\n",
    "        for tool_call in step.step_details.tool_calls:\n",
    "            print(\"=\" *10)\n",
    "            print(tool_call.code_interpreter.input)\n",
    "            print(\"=\"*10)\n",
    "    if step.step_details.type == \"message_creation\":\n",
    "        message = client.beta.threads.messages.retrieve(\n",
    "            thread_id=thread.id,\n",
    "            message_id=step.step_details.message_creation.message_id\n",
    "        )\n",
    "        if message.content[0].type == \"text\":\n",
    "            print(message.content[0].text.value)\n",
    "        if message.content[0].type == \"image_file\":\n",
    "            file_id = message.content[0].image_file.file_id\n",
    "            image_data = client.files.content(file_id)\n",
    "            with open(f\"files/{file.id}.png\", \"wb\") as f:\n",
    "                f.write(image_data.read())\n",
    "                print(f\"Imagem {file_id} salva\")\n",
    "        \n",
    "        # print(message.content[0].text.value)"
   ]
  },
  {
   "cell_type": "code",
   "execution_count": 19,
   "id": "7008a47a-683f-468e-8fce-5b7c21e185a4",
   "metadata": {},
   "outputs": [],
   "source": [
    "# Verificar output na pasta 'files'"
   ]
  }
 ],
 "metadata": {
  "kernelspec": {
   "display_name": "Python 3 (ipykernel)",
   "language": "python",
   "name": "python3"
  },
  "language_info": {
   "codemirror_mode": {
    "name": "ipython",
    "version": 3
   },
   "file_extension": ".py",
   "mimetype": "text/x-python",
   "name": "python",
   "nbconvert_exporter": "python",
   "pygments_lexer": "ipython3",
   "version": "3.12.3"
  }
 },
 "nbformat": 4,
 "nbformat_minor": 5
}
