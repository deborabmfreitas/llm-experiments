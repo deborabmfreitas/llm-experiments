{
 "cells": [
  {
   "cell_type": "markdown",
   "id": "fef299b1-19dc-4431-93e7-d4ddac588bb9",
   "metadata": {},
   "source": [
    "# Embeddings"
   ]
  },
  {
   "cell_type": "markdown",
   "id": "aef2f721-e814-46bc-abbb-8b7cd117a559",
   "metadata": {},
   "source": [
    "* Demonstração do processo\n",
    "* Vetores numéricos que representam semanticamente o texto."
   ]
  },
  {
   "cell_type": "code",
   "execution_count": 1,
   "id": "ed7a9578-c099-4ba7-a536-6f125faed203",
   "metadata": {},
   "outputs": [],
   "source": [
    "from langchain_openai import OpenAIEmbeddings\n",
    "from dotenv import load_dotenv\n",
    "import os"
   ]
  },
  {
   "cell_type": "code",
   "execution_count": 2,
   "id": "b90985a0-5b46-46c6-9f8e-5998d8f3b631",
   "metadata": {},
   "outputs": [],
   "source": [
    "load_dotenv()\n",
    "secret_key = os.getenv(\"OPEN_API_KEY\")"
   ]
  },
  {
   "cell_type": "code",
   "execution_count": 3,
   "id": "d89cdc6c-d447-45a6-9b12-b8d71056b9b1",
   "metadata": {},
   "outputs": [],
   "source": [
    "embedding_model = OpenAIEmbeddings(api_key=secret_key)"
   ]
  },
  {
   "cell_type": "code",
   "execution_count": 4,
   "id": "e1ec6c0c-4f79-4d7e-bee7-13fd37255929",
   "metadata": {},
   "outputs": [],
   "source": [
    "embeddings = embedding_model.embed_documents(\n",
    "    [\n",
    "        \"Eu gosto de gatos\",\n",
    "        \"Eu gosto de animais\",\n",
    "        \"Hoje está chovendo\"\n",
    "    ]\n",
    ")"
   ]
  },
  {
   "cell_type": "code",
   "execution_count": 5,
   "id": "53f87141-f097-4734-aa90-3eb76690349b",
   "metadata": {},
   "outputs": [
    {
     "data": {
      "text/plain": [
       "3"
      ]
     },
     "execution_count": 5,
     "metadata": {},
     "output_type": "execute_result"
    }
   ],
   "source": [
    "len(embeddings)"
   ]
  },
  {
   "cell_type": "code",
   "execution_count": 6,
   "id": "125a93fe-952a-4f0e-b204-786e0a045e07",
   "metadata": {},
   "outputs": [
    {
     "data": {
      "text/plain": [
       "[-0.013258688151836395,\n",
       " 0.01880345307290554,\n",
       " -0.010352257639169693,\n",
       " -0.0330248586833477,\n",
       " -0.0016253470676019788,\n",
       " 0.014111729338765144,\n",
       " -0.006336873397231102,\n",
       " -0.018267255276441574,\n",
       " 0.009097068570554256,\n",
       " -0.009675918146967888]"
      ]
     },
     "execution_count": 6,
     "metadata": {},
     "output_type": "execute_result"
    }
   ],
   "source": [
    "embeddings[0][:10]"
   ]
  },
  {
   "cell_type": "code",
   "execution_count": 7,
   "id": "2f2f9a94-ea7f-4717-be3d-a43b5ca41e61",
   "metadata": {},
   "outputs": [
    {
     "data": {
      "text/plain": [
       "1536"
      ]
     },
     "execution_count": 7,
     "metadata": {},
     "output_type": "execute_result"
    }
   ],
   "source": [
    "len(embeddings[0])"
   ]
  },
  {
   "cell_type": "markdown",
   "id": "e553c7d7-e599-49c8-af0d-e2a2d4c7f75f",
   "metadata": {},
   "source": [
    "Verificando a similaridade entre as frases:"
   ]
  },
  {
   "cell_type": "code",
   "execution_count": 8,
   "id": "b4fc6b03-3bfe-455e-a31e-867219efb6be",
   "metadata": {},
   "outputs": [
    {
     "data": {
      "text/plain": [
       "0.9423324689826335"
      ]
     },
     "execution_count": 8,
     "metadata": {},
     "output_type": "execute_result"
    }
   ],
   "source": [
    "import numpy as np\n",
    "\n",
    "np.dot(embeddings[0], embeddings[1])"
   ]
  },
  {
   "cell_type": "code",
   "execution_count": 9,
   "id": "bf1634f6-d8ac-4840-be17-55d538e6e826",
   "metadata": {},
   "outputs": [
    {
     "data": {
      "text/plain": [
       "0.8152106647062646"
      ]
     },
     "execution_count": 9,
     "metadata": {},
     "output_type": "execute_result"
    }
   ],
   "source": [
    "np.dot(embeddings[0], embeddings[2])"
   ]
  },
  {
   "cell_type": "code",
   "execution_count": 10,
   "id": "f9acb915-4b66-4e8f-be7e-eec09ae4743f",
   "metadata": {},
   "outputs": [
    {
     "data": {
      "text/plain": [
       "0.814710013476919"
      ]
     },
     "execution_count": 10,
     "metadata": {},
     "output_type": "execute_result"
    }
   ],
   "source": [
    "np.dot(embeddings[1], embeddings[2])"
   ]
  },
  {
   "cell_type": "markdown",
   "id": "da78810b-8601-4944-8e5a-cb06e67bfa2b",
   "metadata": {},
   "source": [
    "A frase 0 e 1 possuem maior proximidade, como o esperado."
   ]
  },
  {
   "cell_type": "code",
   "execution_count": 11,
   "id": "d1f4d0d0-83c3-4713-971d-8ed88db33b3a",
   "metadata": {},
   "outputs": [
    {
     "name": "stdout",
     "output_type": "stream",
     "text": [
      "1.0 | 0.94 | 0.82 | \n",
      "0.94 | 1.0 | 0.81 | \n",
      "0.82 | 0.81 | 1.0 | \n"
     ]
    }
   ],
   "source": [
    "for i in range(len(embeddings)):\n",
    "    for j in range(len(embeddings)):\n",
    "        print(round(np.dot(embeddings[i], embeddings[j]), 2), end=\" | \")\n",
    "    print()"
   ]
  },
  {
   "cell_type": "code",
   "execution_count": 12,
   "id": "a6442cbf-0dfb-471d-ba6a-7c8c6da766e6",
   "metadata": {},
   "outputs": [
    {
     "data": {
      "text/plain": [
       "[0.005100993439555168,\n",
       " 0.003876505186781287,\n",
       " -0.0046824184246361256,\n",
       " -0.006441058591008186,\n",
       " -0.017842544242739677,\n",
       " 0.013619309291243553,\n",
       " 0.0015954270493239164,\n",
       " -0.002005412010475993,\n",
       " -0.002075695199891925,\n",
       " 0.005591413471847773]"
      ]
     },
     "execution_count": 12,
     "metadata": {},
     "output_type": "execute_result"
    }
   ],
   "source": [
    "pergunta = \"O que é um cachorro?\"\n",
    "emb_query = embedding_model.embed_query(pergunta)\n",
    "emb_query[:10]"
   ]
  }
 ],
 "metadata": {
  "kernelspec": {
   "display_name": "Python 3 (ipykernel)",
   "language": "python",
   "name": "python3"
  },
  "language_info": {
   "codemirror_mode": {
    "name": "ipython",
    "version": 3
   },
   "file_extension": ".py",
   "mimetype": "text/x-python",
   "name": "python",
   "nbconvert_exporter": "python",
   "pygments_lexer": "ipython3",
   "version": "3.12.3"
  }
 },
 "nbformat": 4,
 "nbformat_minor": 5
}
