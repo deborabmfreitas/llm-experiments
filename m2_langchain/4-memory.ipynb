{
 "cells": [
  {
   "cell_type": "markdown",
   "id": "58839369-efbb-4f1a-8bfa-c49e877252cb",
   "metadata": {},
   "source": [
    "## Langchain (memory)"
   ]
  },
  {
   "cell_type": "markdown",
   "id": "a477e380-47c5-4a87-8452-d29edfa13048",
   "metadata": {},
   "source": [
    "O recurso de memória no LangChain permite armazenar informações de interações anteriores, possibilitando uma experiência conversacional mais contextual e contínua. Ele permite que o sistema se lembre de dados fornecidos anteriormente, facilitando referências e interações mais naturais ao longo da conversa."
   ]
  },
  {
   "cell_type": "code",
   "execution_count": 1,
   "id": "20b243d1-46c4-4c2b-840d-166072c99d1c",
   "metadata": {},
   "outputs": [],
   "source": [
    "# Bibliotecas\n",
    "\n",
    "from langchain.memory import ConversationBufferMemory\n",
    "from langchain_openai.chat_models import ChatOpenAI\n",
    "from langchain.chains.conversation.base import ConversationChain\n",
    "from langchain.memory import ConversationTokenBufferMemory"
   ]
  },
  {
   "cell_type": "markdown",
   "id": "c0c7cc8c-4dce-420d-8819-090b41382163",
   "metadata": {},
   "source": [
    "`add_user_message('')`: adiciona uma mensagem como se tivesse sido enviada pelo usuário humano  \n",
    "`add_ai_message('')`: adiciona uma mensagem como se tivesse sido enviada pelo assistente de IA"
   ]
  },
  {
   "cell_type": "code",
   "execution_count": 2,
   "id": "f08002c3-6bc1-4dbd-90a1-1dd05ad5f9b3",
   "metadata": {},
   "outputs": [],
   "source": [
    "# Demontração \n",
    "\n",
    "memory = ConversationBufferMemory(return_messages=True) # Instanciando\n",
    "memory.chat_memory.add_user_message('Olá')\n",
    "memory.chat_memory.add_ai_message('Como vai?')"
   ]
  },
  {
   "cell_type": "code",
   "execution_count": 3,
   "id": "0f193dc1-9fff-4342-b946-0bc642e919b6",
   "metadata": {},
   "outputs": [
    {
     "data": {
      "text/plain": [
       "{'history': [HumanMessage(content='Olá'), AIMessage(content='Como vai?')]}"
      ]
     },
     "execution_count": 3,
     "metadata": {},
     "output_type": "execute_result"
    }
   ],
   "source": [
    "# Verificando\n",
    "\n",
    "memory.load_memory_variables({})"
   ]
  },
  {
   "cell_type": "code",
   "execution_count": 4,
   "id": "c397772c-87af-4172-a4ae-294817e1235a",
   "metadata": {},
   "outputs": [],
   "source": [
    "# Demonstração 2\n",
    "\n",
    "chat = ChatOpenAI()\n",
    "memory = ConversationBufferMemory()\n",
    "conversation = ConversationChain(\n",
    "    llm=chat,\n",
    "    memory=memory,\n",
    "    verbose=True\n",
    ")"
   ]
  },
  {
   "cell_type": "code",
   "execution_count": 5,
   "id": "53f1d307-08ad-4183-9da9-5bba89f6612c",
   "metadata": {},
   "outputs": [
    {
     "name": "stdout",
     "output_type": "stream",
     "text": [
      "\n",
      "\n",
      "\u001b[1m> Entering new ConversationChain chain...\u001b[0m\n",
      "Prompt after formatting:\n",
      "\u001b[32;1m\u001b[1;3mThe following is a friendly conversation between a human and an AI. The AI is talkative and provides lots of specific details from its context. If the AI does not know the answer to a question, it truthfully says it does not know.\n",
      "\n",
      "Current conversation:\n",
      "\n",
      "Human: Olá, meu nome é Débora\n",
      "AI:\u001b[0m\n",
      "\n",
      "\u001b[1m> Finished chain.\u001b[0m\n"
     ]
    },
    {
     "data": {
      "text/plain": [
       "'Olá Débora! Como posso te ajudar hoje?'"
      ]
     },
     "execution_count": 5,
     "metadata": {},
     "output_type": "execute_result"
    }
   ],
   "source": [
    "# Diálogo 1\n",
    "\n",
    "conversation.predict(input='Olá, meu nome é Débora')"
   ]
  },
  {
   "cell_type": "code",
   "execution_count": 6,
   "id": "19fc62cd-336b-4366-96a4-3ba40a8cd0c3",
   "metadata": {},
   "outputs": [
    {
     "name": "stdout",
     "output_type": "stream",
     "text": [
      "\n",
      "\n",
      "\u001b[1m> Entering new ConversationChain chain...\u001b[0m\n",
      "Prompt after formatting:\n",
      "\u001b[32;1m\u001b[1;3mThe following is a friendly conversation between a human and an AI. The AI is talkative and provides lots of specific details from its context. If the AI does not know the answer to a question, it truthfully says it does not know.\n",
      "\n",
      "Current conversation:\n",
      "Human: Olá, meu nome é Débora\n",
      "AI: Olá Débora! Como posso te ajudar hoje?\n",
      "Human: Como vai?\n",
      "AI:\u001b[0m\n",
      "\n",
      "\u001b[1m> Finished chain.\u001b[0m\n"
     ]
    },
    {
     "data": {
      "text/plain": [
       "'Estou bem, obrigado por perguntar! Estou aqui pronto para ajudar com qualquer dúvida ou informação que você precisar. Como posso te ajudar hoje?'"
      ]
     },
     "execution_count": 6,
     "metadata": {},
     "output_type": "execute_result"
    }
   ],
   "source": [
    "# Diálogo 2\n",
    "\n",
    "conversation.predict(input='Como vai?')"
   ]
  },
  {
   "cell_type": "code",
   "execution_count": 7,
   "id": "31882e2c-0045-4717-9837-854a63e813a6",
   "metadata": {},
   "outputs": [
    {
     "name": "stdout",
     "output_type": "stream",
     "text": [
      "\n",
      "\n",
      "\u001b[1m> Entering new ConversationChain chain...\u001b[0m\n",
      "Prompt after formatting:\n",
      "\u001b[32;1m\u001b[1;3mThe following is a friendly conversation between a human and an AI. The AI is talkative and provides lots of specific details from its context. If the AI does not know the answer to a question, it truthfully says it does not know.\n",
      "\n",
      "Current conversation:\n",
      "Human: Olá, meu nome é Débora\n",
      "AI: Olá Débora! Como posso te ajudar hoje?\n",
      "Human: Como vai?\n",
      "AI: Estou bem, obrigado por perguntar! Estou aqui pronto para ajudar com qualquer dúvida ou informação que você precisar. Como posso te ajudar hoje?\n",
      "Human: Qual é o meu nome? E o que ele significa?\n",
      "AI:\u001b[0m\n",
      "\n",
      "\u001b[1m> Finished chain.\u001b[0m\n"
     ]
    },
    {
     "data": {
      "text/plain": [
       "'Seu nome é Débora, que é um nome de origem hebraica que significa \"abelha\". É um nome bastante bonito e significativo! Como posso te ajudar mais hoje, Débora?'"
      ]
     },
     "execution_count": 7,
     "metadata": {},
     "output_type": "execute_result"
    }
   ],
   "source": [
    "# Diálogo 3\n",
    "\n",
    "conversation.predict(input='Qual é o meu nome? E o que ele significa?')"
   ]
  },
  {
   "cell_type": "code",
   "execution_count": 8,
   "id": "0333f27d-674f-43cc-b102-bc327c47f5c5",
   "metadata": {},
   "outputs": [],
   "source": [
    "# Demontração 3\n",
    "\n",
    "chat = ChatOpenAI()\n",
    "memory = ConversationTokenBufferMemory(llm=chat, max_token_limit=250) # limite de 250 tokens\n",
    "conversation = ConversationChain(\n",
    "    llm=chat,\n",
    "    memory=memory,\n",
    "    verbose=True\n",
    ")"
   ]
  },
  {
   "cell_type": "code",
   "execution_count": 9,
   "id": "b2e6a748-7b34-482c-8ff5-143dc9d43662",
   "metadata": {},
   "outputs": [
    {
     "name": "stdout",
     "output_type": "stream",
     "text": [
      "\n",
      "\n",
      "\u001b[1m> Entering new ConversationChain chain...\u001b[0m\n",
      "Prompt after formatting:\n",
      "\u001b[32;1m\u001b[1;3mThe following is a friendly conversation between a human and an AI. The AI is talkative and provides lots of specific details from its context. If the AI does not know the answer to a question, it truthfully says it does not know.\n",
      "\n",
      "Current conversation:\n",
      "\n",
      "Human: Faça uma poesia de 400 palavras\n",
      "AI:\u001b[0m\n",
      "\n",
      "\u001b[1m> Finished chain.\u001b[0m\n"
     ]
    },
    {
     "data": {
      "text/plain": [
       "'Claro! Aqui está uma poesia de 400 palavras para você:\\n\\nNo silêncio da noite estrelada,\\nO vento sussurra segredos antigos,\\nA lua brilha com sua luz prateada,\\nE o coração se enche de abrigos.\\n\\nNas ruas vazias, ecoam passos solitários,\\nEnquanto as sombras dançam ao luar,\\nA cidade dorme em seus mistérios,\\nE o tempo parece se eternizar.\\n\\nNo horizonte distante, o sol se põe,\\nPintando o céu com cores de fogo,\\nA natureza em sua plenitude se revela,\\nE o mundo se torna um tesouro.\\n\\nCaminhando pela floresta encantada,\\nO perfume das flores embriaga os sentidos,\\nOs pássaros cantam sua melodia encantadora,\\nE a paz se faz presente em seus ruídos.\\n\\nO rio serpenteia entre as pedras,\\nLevando consigo segredos do passado,\\nA água cristalina reflete a beleza do mundo,\\nE a vida segue seu curso delicado.\\n\\n400 palavras de poesia, um universo de emoções,\\nOnde a imaginação voa livre como um pássaro,\\nE o coração se deixa levar pelas sensações,\\nEm um mundo onde a beleza é o mais raro.\\n\\nEspero que tenha gostado da poesia! Posso ajudar em mais alguma coisa?'"
      ]
     },
     "execution_count": 9,
     "metadata": {},
     "output_type": "execute_result"
    }
   ],
   "source": [
    "# Diálogo 1\n",
    "\n",
    "conversation.predict(input='Faça uma poesia de 400 palavras')"
   ]
  },
  {
   "cell_type": "code",
   "execution_count": 10,
   "id": "4f0664e5-a7c8-49c5-93a0-00487b204816",
   "metadata": {},
   "outputs": [
    {
     "name": "stdout",
     "output_type": "stream",
     "text": [
      "\n",
      "\n",
      "\u001b[1m> Entering new ConversationChain chain...\u001b[0m\n",
      "Prompt after formatting:\n",
      "\u001b[32;1m\u001b[1;3mThe following is a friendly conversation between a human and an AI. The AI is talkative and provides lots of specific details from its context. If the AI does not know the answer to a question, it truthfully says it does not know.\n",
      "\n",
      "Current conversation:\n",
      "\n",
      "Human: Resuma a poesia anterior\n",
      "AI:\u001b[0m\n",
      "\n",
      "\u001b[1m> Finished chain.\u001b[0m\n"
     ]
    },
    {
     "data": {
      "text/plain": [
       "'Claro! A poesia anterior fala sobre a beleza da natureza, descrevendo as cores vibrantes das flores e a melodia dos pássaros ao amanhecer. O poeta destaca a importância de apreciar os pequenos momentos de tranquilidade e gratidão pela vida. A mensagem central da poesia é a valorização da simplicidade e da paz que a natureza pode nos proporcionar. Espero que tenha gostado do resumo!'"
      ]
     },
     "execution_count": 10,
     "metadata": {},
     "output_type": "execute_result"
    }
   ],
   "source": [
    "# Diálogo 2\n",
    "\n",
    "conversation.predict(input='Resuma a poesia anterior')"
   ]
  }
 ],
 "metadata": {
  "kernelspec": {
   "display_name": "Python 3 (ipykernel)",
   "language": "python",
   "name": "python3"
  },
  "language_info": {
   "codemirror_mode": {
    "name": "ipython",
    "version": 3
   },
   "file_extension": ".py",
   "mimetype": "text/x-python",
   "name": "python",
   "nbconvert_exporter": "python",
   "pygments_lexer": "ipython3",
   "version": "3.12.3"
  }
 },
 "nbformat": 4,
 "nbformat_minor": 5
}
