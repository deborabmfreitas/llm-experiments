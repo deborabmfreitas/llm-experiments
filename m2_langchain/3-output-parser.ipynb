{
 "cells": [
  {
   "cell_type": "markdown",
   "id": "c2dcac6f-830d-470a-8215-f23c4591730a",
   "metadata": {},
   "source": [
    "## Langchain (output parser)"
   ]
  },
  {
   "cell_type": "markdown",
   "id": "81d41035-1b20-4aab-a6e4-43a3f86235b9",
   "metadata": {},
   "source": [
    "- **Prompt template**: input\n",
    "- **Output parser**: sera o output, responsável por processar a saída do modelo de linguagem (LLM) e transformá-la em um formato estruturado ou mais adequado para uso posterior."
   ]
  },
  {
   "cell_type": "markdown",
   "id": "9ad41b72-1eed-49ed-b209-f111eb55df8d",
   "metadata": {},
   "source": [
    "### 1. Bibliotecas"
   ]
  },
  {
   "cell_type": "code",
   "execution_count": 1,
   "id": "fe56beab-3853-4b74-8cfd-b608c649dbea",
   "metadata": {},
   "outputs": [],
   "source": [
    "from langchain.prompts import ChatPromptTemplate\n",
    "from langchain_openai.chat_models import ChatOpenAI\n",
    "import os\n",
    "from dotenv import load_dotenv\n",
    "from langchain.output_parsers import ResponseSchema\n",
    "from langchain.output_parsers import StructuredOutputParser"
   ]
  },
  {
   "cell_type": "markdown",
   "id": "531d149d-c4c3-4412-bccc-3b6a8417b2af",
   "metadata": {},
   "source": [
    "### 2. Exemplos de uso"
   ]
  },
  {
   "cell_type": "code",
   "execution_count": 2,
   "id": "f89e12a1-9632-4cea-85af-f58584806eef",
   "metadata": {},
   "outputs": [],
   "source": [
    "feedback_produto = \"\"\"\n",
    "Estou muito satisfeito com o Smartphone XYZ Pro. O desempenho é excelente, e o sistema \n",
    "operacional é rápido e intuitivo. A câmera é um dos principais destaques, especialmente o \n",
    "modo noturno, que captura imagens incríveis mesmo em baixa iluminação. A duração da bateria \n",
    "também impressiona, durando facilmente um dia inteiro com uso intenso.\n",
    "Por outro lado, sinto que o produto poderia ser melhorado em alguns aspectos. A tela, \n",
    "embora tenha cores vibrantes, parece refletir bastante luz, dificultando o uso sob o sol. \n",
    "Além disso, o carregador incluído na caixa não oferece carregamento rápido, o que é um ponto \n",
    "negativo considerando o preço do aparelho\n",
    "\"\"\""
   ]
  },
  {
   "cell_type": "code",
   "execution_count": 3,
   "id": "cf95d908-2134-4a16-bdac-28e7fa2d4667",
   "metadata": {},
   "outputs": [],
   "source": [
    "review_template = ChatPromptTemplate.from_template(\"\"\"\n",
    "Para o texto a seguir, extraia as seguintes informações:\n",
    "produto: Nome do produto mencionado no texto.\n",
    "características_positivas: Liste todas as características positivas mencionadas sobre o produto.\n",
    "características_negativas: Liste todas as características negativas mencionadas sobre o produto.\n",
    "recomendação: O cliente recomenda o produto? Responda True para sim ou False para não.\n",
    "\n",
    "Texto: {review}\n",
    "\n",
    "Retorne a resposta no formato JSON\n",
    "\"\"\"\n",
    ")"
   ]
  },
  {
   "cell_type": "code",
   "execution_count": 4,
   "id": "02f9a702-41cb-4e0b-9b61-8b3b83717b7b",
   "metadata": {},
   "outputs": [
    {
     "name": "stdout",
     "output_type": "stream",
     "text": [
      "[HumanMessage(content='\\nPara o texto a seguir, extraia as seguintes informações:\\nproduto: Nome do produto mencionado no texto.\\ncaracterísticas_positivas: Liste todas as características positivas mencionadas sobre o produto.\\ncaracterísticas_negativas: Liste todas as características negativas mencionadas sobre o produto.\\nrecomendação: O cliente recomenda o produto? Responda True para sim ou False para não.\\n\\nTexto: \\nEstou muito satisfeito com o Smartphone XYZ Pro. O desempenho é excelente, e o sistema \\noperacional é rápido e intuitivo. A câmera é um dos principais destaques, especialmente o \\nmodo noturno, que captura imagens incríveis mesmo em baixa iluminação. A duração da bateria \\ntambém impressiona, durando facilmente um dia inteiro com uso intenso.\\nPor outro lado, sinto que o produto poderia ser melhorado em alguns aspectos. A tela, \\nembora tenha cores vibrantes, parece refletir bastante luz, dificultando o uso sob o sol. \\nAlém disso, o carregador incluído na caixa não oferece carregamento rápido, o que é um ponto \\nnegativo considerando o preço do aparelho\\n\\n\\nRetorne a resposta no formato JSON\\n')]\n"
     ]
    }
   ],
   "source": [
    "print(review_template.format_messages(review=feedback_produto))"
   ]
  },
  {
   "cell_type": "code",
   "execution_count": 5,
   "id": "bac3d8b7-6008-4a4d-84b2-831e776f9926",
   "metadata": {},
   "outputs": [],
   "source": [
    "load_dotenv()\n",
    "secret_key = os.getenv(\"OPEN_API_KEY\")\n",
    "chat = ChatOpenAI(openai_api_key=secret_key)"
   ]
  },
  {
   "cell_type": "code",
   "execution_count": 6,
   "id": "a561ba06-abd7-4502-a82b-1c828bb065f4",
   "metadata": {},
   "outputs": [],
   "source": [
    "resposta = chat.invoke(review_template.format_messages(review=feedback_produto))"
   ]
  },
  {
   "cell_type": "code",
   "execution_count": 7,
   "id": "791fac24-8097-4028-b6dd-ba35f48f3bc0",
   "metadata": {},
   "outputs": [
    {
     "data": {
      "text/plain": [
       "'{\\n    \"produto\": \"Smartphone XYZ Pro\",\\n    \"características_positivas\": [\"Desempenho excelente\", \"Sistema operacional rápido e intuitivo\", \"Câmera de destaque, especialmente no modo noturno\", \"Duração da bateria impressionante\"],\\n    \"características_negativas\": [\"Tela que reflete bastante luz\", \"Carregador não oferece carregamento rápido\"],\\n    \"recomendação\": true\\n}'"
      ]
     },
     "execution_count": 7,
     "metadata": {},
     "output_type": "execute_result"
    }
   ],
   "source": [
    "resposta.content"
   ]
  },
  {
   "cell_type": "code",
   "execution_count": 8,
   "id": "0983af95-3277-4c1d-938a-de039f7f547e",
   "metadata": {},
   "outputs": [],
   "source": [
    "schema_produto = ResponseSchema(\n",
    "    name=\"produto\",\n",
    "    type=\"string\",\n",
    "    description=\"Nome do produto mencionado no texto\"\n",
    ")\n",
    "\n",
    "schema_positivas = ResponseSchema(\n",
    "    name=\"caracteristicas_positivas\",\n",
    "    type=\"list\",\n",
    "    description=\"Liste todas as características positivas mencionadas sobre o produto\"\n",
    ")\n",
    "\n",
    "schema_negativas = ResponseSchema(\n",
    "    name='características_negativas',\n",
    "    type='list',\n",
    "    description='Liste todas as características negativas mencionadas sobre o produto.'\n",
    ")\n",
    "\n",
    "schema_recomendacao = ResponseSchema(\n",
    "    name='recomendação',\n",
    "    type='bool',\n",
    "    description='O cliente recomenda o produto? Responda True para sim ou False para não.'\n",
    ")"
   ]
  },
  {
   "cell_type": "code",
   "execution_count": 9,
   "id": "b1f8b252-373e-4132-8e90-86dfae43acb4",
   "metadata": {},
   "outputs": [],
   "source": [
    "response_schema = [schema_produto, schema_positivas, schema_negativas, schema_recomendacao]\n",
    "output_parser = StructuredOutputParser.from_response_schemas(response_schema)\n",
    "schema_formatado = output_parser.get_format_instructions()"
   ]
  },
  {
   "cell_type": "code",
   "execution_count": 10,
   "id": "0ba19b8e-0e53-4fac-8551-1148274078bb",
   "metadata": {},
   "outputs": [
    {
     "name": "stdout",
     "output_type": "stream",
     "text": [
      "The output should be a markdown code snippet formatted in the following schema, including the leading and trailing \"```json\" and \"```\":\n",
      "\n",
      "```json\n",
      "{\n",
      "\t\"produto\": string  // Nome do produto mencionado no texto\n",
      "\t\"caracteristicas_positivas\": list  // Liste todas as características positivas mencionadas sobre o produto\n",
      "\t\"características_negativas\": list  // Liste todas as características negativas mencionadas sobre o produto.\n",
      "\t\"recomendação\": bool  // O cliente recomenda o produto? Responda True para sim ou False para não.\n",
      "}\n",
      "```\n"
     ]
    }
   ],
   "source": [
    "print(schema_formatado)"
   ]
  },
  {
   "cell_type": "code",
   "execution_count": 11,
   "id": "c7de6da5-a6e8-4ff9-8672-6ccd738da734",
   "metadata": {},
   "outputs": [],
   "source": [
    "review_template2 = ChatPromptTemplate.from_template(\"\"\"\n",
    "Para o texto a seguir, extraia as seguintes informações:\n",
    "produto, caracteristicas_positivas, caracteristicas_negativas e recomendacao\n",
    "\n",
    "Texto: {review}\n",
    "\n",
    "{schema}\n",
    "\"\"\", partial_variables={\"schema\":schema_formatado}\n",
    ")"
   ]
  },
  {
   "cell_type": "code",
   "execution_count": 12,
   "id": "ae771303-3249-4a73-82e2-29f0ad47377b",
   "metadata": {},
   "outputs": [
    {
     "name": "stdout",
     "output_type": "stream",
     "text": [
      "[HumanMessage(content='\\nPara o texto a seguir, extraia as seguintes informações:\\nproduto, caracteristicas_positivas, caracteristicas_negativas e recomendacao\\n\\nTexto: \\nEstou muito satisfeito com o Smartphone XYZ Pro. O desempenho é excelente, e o sistema \\noperacional é rápido e intuitivo. A câmera é um dos principais destaques, especialmente o \\nmodo noturno, que captura imagens incríveis mesmo em baixa iluminação. A duração da bateria \\ntambém impressiona, durando facilmente um dia inteiro com uso intenso.\\nPor outro lado, sinto que o produto poderia ser melhorado em alguns aspectos. A tela, \\nembora tenha cores vibrantes, parece refletir bastante luz, dificultando o uso sob o sol. \\nAlém disso, o carregador incluído na caixa não oferece carregamento rápido, o que é um ponto \\nnegativo considerando o preço do aparelho\\n\\n\\nThe output should be a markdown code snippet formatted in the following schema, including the leading and trailing \"```json\" and \"```\":\\n\\n```json\\n{\\n\\t\"produto\": string  // Nome do produto mencionado no texto\\n\\t\"caracteristicas_positivas\": list  // Liste todas as características positivas mencionadas sobre o produto\\n\\t\"características_negativas\": list  // Liste todas as características negativas mencionadas sobre o produto.\\n\\t\"recomendação\": bool  // O cliente recomenda o produto? Responda True para sim ou False para não.\\n}\\n```\\n')]\n"
     ]
    }
   ],
   "source": [
    "print(review_template2.format_messages(review=feedback_produto))"
   ]
  },
  {
   "cell_type": "code",
   "execution_count": 13,
   "id": "6c6c42f2-1a50-4e60-afa3-e0b717e1b8fd",
   "metadata": {},
   "outputs": [
    {
     "data": {
      "text/plain": [
       "'```json\\n{\\n\\t\"produto\": \"Smartphone XYZ Pro\",\\n\\t\"caracteristicas_positivas\": [\"Desempenho excelente\", \"Sistema operacional rápido e intuitivo\", \"Câmera de destaque, especialmente modo noturno\", \"Duração da bateria impressionante\"],\\n\\t\"características_negativas\": [\"Tela reflete bastante luz\", \"Carregador não oferece carregamento rápido\"],\\n\\t\"recomendação\": true\\n}\\n```'"
      ]
     },
     "execution_count": 13,
     "metadata": {},
     "output_type": "execute_result"
    }
   ],
   "source": [
    "resposta = chat.invoke(review_template2.format_messages(review=feedback_produto))\n",
    "resposta.content"
   ]
  },
  {
   "cell_type": "code",
   "execution_count": 14,
   "id": "81766b16-4ee2-4bcb-9a0e-d39c1dd0d235",
   "metadata": {},
   "outputs": [],
   "source": [
    "resposta_json = output_parser.parse(resposta.content)"
   ]
  },
  {
   "cell_type": "code",
   "execution_count": 15,
   "id": "b961f617-d55e-4eac-a5dd-adbaa7a17dae",
   "metadata": {},
   "outputs": [
    {
     "data": {
      "text/plain": [
       "'Smartphone XYZ Pro'"
      ]
     },
     "execution_count": 15,
     "metadata": {},
     "output_type": "execute_result"
    }
   ],
   "source": [
    "resposta_json[\"produto\"]"
   ]
  },
  {
   "cell_type": "code",
   "execution_count": 16,
   "id": "84089cdb-34a5-475b-81de-5a271f640178",
   "metadata": {},
   "outputs": [
    {
     "data": {
      "text/plain": [
       "['Desempenho excelente',\n",
       " 'Sistema operacional rápido e intuitivo',\n",
       " 'Câmera de destaque, especialmente modo noturno',\n",
       " 'Duração da bateria impressionante']"
      ]
     },
     "execution_count": 16,
     "metadata": {},
     "output_type": "execute_result"
    }
   ],
   "source": [
    "resposta_json[\"caracteristicas_positivas\"]"
   ]
  },
  {
   "cell_type": "code",
   "execution_count": 17,
   "id": "bd465576-916c-4989-b5a1-9147515345d6",
   "metadata": {},
   "outputs": [
    {
     "data": {
      "text/plain": [
       "['Tela reflete bastante luz', 'Carregador não oferece carregamento rápido']"
      ]
     },
     "execution_count": 17,
     "metadata": {},
     "output_type": "execute_result"
    }
   ],
   "source": [
    "resposta_json[\"características_negativas\"]"
   ]
  },
  {
   "cell_type": "code",
   "execution_count": 18,
   "id": "df6c53d6-7d92-49c5-a325-da5fb2666447",
   "metadata": {},
   "outputs": [
    {
     "data": {
      "text/plain": [
       "True"
      ]
     },
     "execution_count": 18,
     "metadata": {},
     "output_type": "execute_result"
    }
   ],
   "source": [
    "resposta_json[\"recomendação\"]"
   ]
  }
 ],
 "metadata": {
  "kernelspec": {
   "display_name": "Python 3 (ipykernel)",
   "language": "python",
   "name": "python3"
  },
  "language_info": {
   "codemirror_mode": {
    "name": "ipython",
    "version": 3
   },
   "file_extension": ".py",
   "mimetype": "text/x-python",
   "name": "python",
   "nbconvert_exporter": "python",
   "pygments_lexer": "ipython3",
   "version": "3.12.3"
  }
 },
 "nbformat": 4,
 "nbformat_minor": 5
}
