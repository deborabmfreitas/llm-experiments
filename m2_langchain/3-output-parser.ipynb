{
 "cells": [
  {
   "cell_type": "markdown",
   "id": "c2dcac6f-830d-470a-8215-f23c4591730a",
   "metadata": {},
   "source": [
    "## Langchain (output parser)"
   ]
  },
  {
   "cell_type": "markdown",
   "id": "81d41035-1b20-4aab-a6e4-43a3f86235b9",
   "metadata": {},
   "source": [
    "Prompt template: input. Output parser: output. Vai pegar a saída do LLM e colocar em um formato mais adequado."
   ]
  },
  {
   "cell_type": "code",
   "execution_count": null,
   "id": "bd6c808b-1f07-40b5-a34a-2b67b3eb7aa8",
   "metadata": {},
   "outputs": [],
   "source": []
  },
  {
   "cell_type": "code",
   "execution_count": null,
   "id": "fe56beab-3853-4b74-8cfd-b608c649dbea",
   "metadata": {},
   "outputs": [],
   "source": []
  },
  {
   "cell_type": "code",
   "execution_count": null,
   "id": "f89e12a1-9632-4cea-85af-f58584806eef",
   "metadata": {},
   "outputs": [],
   "source": []
  },
  {
   "cell_type": "code",
   "execution_count": null,
   "id": "cf95d908-2134-4a16-bdac-28e7fa2d4667",
   "metadata": {},
   "outputs": [],
   "source": []
  },
  {
   "cell_type": "code",
   "execution_count": null,
   "id": "02f9a702-41cb-4e0b-9b61-8b3b83717b7b",
   "metadata": {},
   "outputs": [],
   "source": []
  }
 ],
 "metadata": {
  "kernelspec": {
   "display_name": "Python 3 (ipykernel)",
   "language": "python",
   "name": "python3"
  },
  "language_info": {
   "codemirror_mode": {
    "name": "ipython",
    "version": 3
   },
   "file_extension": ".py",
   "mimetype": "text/x-python",
   "name": "python",
   "nbconvert_exporter": "python",
   "pygments_lexer": "ipython3",
   "version": "3.12.3"
  }
 },
 "nbformat": 4,
 "nbformat_minor": 5
}
