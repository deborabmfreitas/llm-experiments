{
 "cells": [
  {
   "cell_type": "markdown",
   "id": "c88ae9b8-a75e-4aaa-95ab-aee0d108db5d",
   "metadata": {},
   "source": [
    "# Text splitting"
   ]
  },
  {
   "cell_type": "markdown",
   "id": "af0f9672-cb71-402c-8c72-c4d0e6de2a7b",
   "metadata": {},
   "source": [
    "## Bibliotecas"
   ]
  },
  {
   "cell_type": "code",
   "execution_count": 1,
   "id": "b1614a18-b1ed-45d9-bbee-6bc94773754b",
   "metadata": {},
   "outputs": [],
   "source": [
    "import string\n",
    "from langchain_text_splitters import CharacterTextSplitter\n",
    "from langchain_text_splitters import RecursiveCharacterTextSplitter\n",
    "from langchain_text_splitters import TokenTextSplitter\n",
    "from langchain_community.document_loaders.pdf import PyPDFLoader"
   ]
  },
  {
   "cell_type": "markdown",
   "id": "5bfd7fae-130d-4178-b813-8e7ab6441d85",
   "metadata": {},
   "source": [
    "## Aplicação"
   ]
  },
  {
   "cell_type": "markdown",
   "id": "bbdaccaa-96b1-47d8-b30b-3f4c7961d73a",
   "metadata": {},
   "source": [
    "**Chunk_size**: define o tamanho de cada pedaço (em número de caracteres) quando o texto for dividido.\n",
    "\n",
    "**Chunk_overlap**: Define quantos caracteres de sobreposição haverá entre os chunks, ou seja, controla a quantidade de texto compartilhado entre chunks consecutivos (quantos caracteres do final de um chunk serão repetidos no início do próximo)\n",
    "\n",
    "Útil para tarefas como resumo, busca semântica ou perguntas e respostas. É importante que informações que ficam no “meio” entre dois pedaços não sejam perdidas. A sobreposição (chunk_overlap) ajuda nisso.\n",
    " \n",
    "\n",
    "Exemplo:\n",
    "\n",
    "texto = ABCDEFGHIJKLMNO\n",
    "\n",
    "chunk_size = 5\n",
    "ex: \"ABCDE\", \"FGHIJ\", \"KLMNO\"\n",
    "\n",
    "chunk_overlap = 2\n",
    "ex2: \"ABCDE\", \"DEFGH\", \"FGHIJ\", \"IJKLM\", \"LMNO\""
   ]
  },
  {
   "cell_type": "markdown",
   "id": "2dcef7b9-0c39-406f-b212-c2d581019ccf",
   "metadata": {
    "jp-MarkdownHeadingCollapsed": true
   },
   "source": [
    "### Teste inicial"
   ]
  },
  {
   "cell_type": "code",
   "execution_count": 2,
   "id": "2d179a62-d7c4-49a0-90f7-4e7f23aa9867",
   "metadata": {},
   "outputs": [],
   "source": [
    "chunk_size = 50\n",
    "chunk_overlap = 0 # sem sobreposição\n",
    "\n",
    "char_split = CharacterTextSplitter(\n",
    "    chunk_size=chunk_size,\n",
    "    chunk_overlap=chunk_overlap\n",
    ")"
   ]
  },
  {
   "cell_type": "code",
   "execution_count": 3,
   "id": "e8b3869e-013a-4f0d-b620-f70ed3ca1863",
   "metadata": {},
   "outputs": [
    {
     "data": {
      "text/plain": [
       "130"
      ]
     },
     "execution_count": 3,
     "metadata": {},
     "output_type": "execute_result"
    }
   ],
   "source": [
    "# Criando texto de alfabeto\n",
    "\n",
    "texto = \"\".join(f\"{string.ascii_lowercase}\" for _ in range(5))\n",
    "len(texto)"
   ]
  },
  {
   "cell_type": "code",
   "execution_count": 4,
   "id": "c2922da2-1f9a-4834-bc6d-de5423e4e5e3",
   "metadata": {},
   "outputs": [
    {
     "data": {
      "text/plain": [
       "'abcdefghijklmnopqrstuvwxyzabcdefghijklmnopqrstuvwxyzabcdefghijklmnopqrstuvwxyzabcdefghijklmnopqrstuvwxyzabcdefghijklmnopqrstuvwxyz'"
      ]
     },
     "execution_count": 4,
     "metadata": {},
     "output_type": "execute_result"
    }
   ],
   "source": [
    "texto"
   ]
  },
  {
   "cell_type": "code",
   "execution_count": 5,
   "id": "e2a241d1-524f-409a-b2c9-bd69b955d49f",
   "metadata": {},
   "outputs": [],
   "source": [
    "# Testando o split\n",
    "\n",
    "char_split = CharacterTextSplitter(\n",
    "    chunk_size=chunk_size,\n",
    "    chunk_overlap=chunk_overlap,\n",
    "    separator=\"\"\n",
    ")"
   ]
  },
  {
   "cell_type": "code",
   "execution_count": 6,
   "id": "a2f51ec8-4d0f-4a15-babc-2473ab128a97",
   "metadata": {},
   "outputs": [
    {
     "data": {
      "text/plain": [
       "3"
      ]
     },
     "execution_count": 6,
     "metadata": {},
     "output_type": "execute_result"
    }
   ],
   "source": [
    "split = char_split.split_text(texto)\n",
    "len(split)"
   ]
  },
  {
   "cell_type": "code",
   "execution_count": 7,
   "id": "30b78e6c-dfd3-4d2f-8849-ec73dc404b50",
   "metadata": {},
   "outputs": [
    {
     "data": {
      "text/plain": [
       "['abcdefghijklmnopqrstuvwxyzabcdefghijklmnopqrstuvwx',\n",
       " 'yzabcdefghijklmnopqrstuvwxyzabcdefghijklmnopqrstuv',\n",
       " 'wxyzabcdefghijklmnopqrstuvwxyz']"
      ]
     },
     "execution_count": 7,
     "metadata": {},
     "output_type": "execute_result"
    }
   ],
   "source": [
    "split"
   ]
  },
  {
   "cell_type": "markdown",
   "id": "6d501202-f88f-4934-8f79-57f748417d35",
   "metadata": {
    "jp-MarkdownHeadingCollapsed": true
   },
   "source": [
    "### Testando com o texto do exemplo"
   ]
  },
  {
   "cell_type": "code",
   "execution_count": 8,
   "id": "4ddac229-fc3d-4ec1-8491-a3b453ce0330",
   "metadata": {},
   "outputs": [],
   "source": [
    "# Texto modelo\n",
    "\n",
    "texto_completo = \"\"\"\n",
    "Python é uma linguagem de programação de alto nível conhecida por sua simplicidade, \n",
    "legibilidade e versatilidade. Seu design foi criado com o objetivo de ser fácil de \n",
    "aprender e usar, permitindo que programadores escrevam código de maneira mais \n",
    "intuitiva e eficiente. Ao contrário de outras linguagens, Python prioriza a \n",
    "legibilidade do código, o que facilita a compreensão e manutenção do software, \n",
    "mesmo por programadores que não são os autores do código original. \n",
    "Sua sintaxe clara, por exemplo, elimina a necessidade de muitos símbolos ou \n",
    "palavras-chave complicadas, tornando o código mais próximo da linguagem humana.\n",
    "\"\"\""
   ]
  },
  {
   "cell_type": "code",
   "execution_count": 9,
   "id": "f46f0780-95db-4b31-b5f3-e9b3145462e9",
   "metadata": {},
   "outputs": [
    {
     "data": {
      "text/plain": [
       "13"
      ]
     },
     "execution_count": 9,
     "metadata": {},
     "output_type": "execute_result"
    }
   ],
   "source": [
    "chunk_size = 50\n",
    "chunk_overlap = 0\n",
    "char_split = CharacterTextSplitter(\n",
    "    chunk_size=chunk_size,\n",
    "    chunk_overlap=chunk_overlap,\n",
    "    separator=\"\"\n",
    ")\n",
    "\n",
    "split = char_split.split_text(texto_completo)\n",
    "len(split)"
   ]
  },
  {
   "cell_type": "code",
   "execution_count": 10,
   "id": "2146220a-d1da-45ea-9c8c-bdf99cb2d75c",
   "metadata": {},
   "outputs": [
    {
     "data": {
      "text/plain": [
       "['Python é uma linguagem de programação de alto nív',\n",
       " 'el conhecida por sua simplicidade, \\nlegibilidade e',\n",
       " 'versatilidade. Seu design foi criado com o objeti',\n",
       " 'vo de ser fácil de \\naprender e usar, permitindo qu',\n",
       " 'e programadores escrevam código de maneira mais \\ni',\n",
       " 'ntuitiva e eficiente. Ao contrário de outras lingu',\n",
       " 'agens, Python prioriza a \\nlegibilidade do código,',\n",
       " 'o que facilita a compreensão e manutenção do softw',\n",
       " 'are, \\nmesmo por programadores que não são os autor',\n",
       " 'es do código original. \\nSua sintaxe clara, por exe',\n",
       " 'mplo, elimina a necessidade de muitos símbolos ou',\n",
       " 'palavras-chave complicadas, tornando o código mai',\n",
       " 's próximo da linguagem humana.']"
      ]
     },
     "execution_count": 10,
     "metadata": {},
     "output_type": "execute_result"
    }
   ],
   "source": [
    "split"
   ]
  },
  {
   "cell_type": "markdown",
   "id": "e77bc6fb-2df6-4061-a035-db637c23fa1b",
   "metadata": {},
   "source": [
    "### RecursiveCharacterTextSplitter (1)"
   ]
  },
  {
   "cell_type": "markdown",
   "id": "18ad9d28-e364-4d16-91f9-3b603b3ca566",
   "metadata": {},
   "source": [
    "O split de caractere recursivo é uma técnica que divide um texto longo em pedaços menores (chunks) tentando preservar o sentido das ideias. Ele faz isso de forma hierárquica: primeiro tenta dividir por parágrafos, depois por frases, depois por palavras e, se necessário, por caracteres. Isso garante que os chunks fiquem o mais naturais e compreensíveis possível, mesmo quando o texto é cortado."
   ]
  },
  {
   "cell_type": "code",
   "execution_count": 11,
   "id": "e013384d-6af8-4e52-872e-789ab3ada093",
   "metadata": {},
   "outputs": [
    {
     "data": {
      "text/plain": [
       "3"
      ]
     },
     "execution_count": 11,
     "metadata": {},
     "output_type": "execute_result"
    }
   ],
   "source": [
    "chunk_size = 250\n",
    "chunk_overlap = 10\n",
    "char_split = RecursiveCharacterTextSplitter(\n",
    "    chunk_size=chunk_size,\n",
    "    chunk_overlap=chunk_overlap,\n",
    "    separators=[\"\\n\\n\",\"\\n\", \" \", \"\"] # lista de separadores\n",
    ")\n",
    "\n",
    "split = char_split.split_text(texto_completo)\n",
    "len(split)"
   ]
  },
  {
   "cell_type": "code",
   "execution_count": 12,
   "id": "f24e3646-83a8-4853-8964-ddbcfc0830e3",
   "metadata": {},
   "outputs": [
    {
     "data": {
      "text/plain": [
       "['Python é uma linguagem de programação de alto nível conhecida por sua simplicidade, \\nlegibilidade e versatilidade. Seu design foi criado com o objetivo de ser fácil de \\naprender e usar, permitindo que programadores escrevam código de maneira mais',\n",
       " 'intuitiva e eficiente. Ao contrário de outras linguagens, Python prioriza a \\nlegibilidade do código, o que facilita a compreensão e manutenção do software, \\nmesmo por programadores que não são os autores do código original.',\n",
       " 'Sua sintaxe clara, por exemplo, elimina a necessidade de muitos símbolos ou \\npalavras-chave complicadas, tornando o código mais próximo da linguagem humana.']"
      ]
     },
     "execution_count": 12,
     "metadata": {},
     "output_type": "execute_result"
    }
   ],
   "source": [
    "split"
   ]
  },
  {
   "cell_type": "markdown",
   "id": "2dc3d226-9dc8-4cb0-8ece-894aa15cf7fc",
   "metadata": {},
   "source": [
    "### TokenTextSplitter"
   ]
  },
  {
   "cell_type": "code",
   "execution_count": 13,
   "id": "3f4a3aa2-4721-4aca-a3d6-2493445bf679",
   "metadata": {},
   "outputs": [],
   "source": [
    "chunk_size = 50\n",
    "chunk_overlap = 5\n",
    "char_split = TokenTextSplitter(\n",
    "    chunk_size=chunk_size,\n",
    "    chunk_overlap=chunk_overlap\n",
    ")"
   ]
  },
  {
   "cell_type": "code",
   "execution_count": 14,
   "id": "2bf20341-a29e-4209-a145-f73951c5dfe6",
   "metadata": {},
   "outputs": [
    {
     "data": {
      "text/plain": [
       "'abcdefghijklmnopqrstuvwxyzabcdefghijklmnopqrstuvwxyzabcdefghijklmnopqrstuvwxyzabcdefghijklmnopqrstuvwxyzabcdefghijklmnopqrstuvwxyz'"
      ]
     },
     "execution_count": 14,
     "metadata": {},
     "output_type": "execute_result"
    }
   ],
   "source": [
    "texto"
   ]
  },
  {
   "cell_type": "code",
   "execution_count": 15,
   "id": "936f5bff-451b-4bf0-b824-e4c9e1e762ed",
   "metadata": {},
   "outputs": [
    {
     "data": {
      "text/plain": [
       "2"
      ]
     },
     "execution_count": 15,
     "metadata": {},
     "output_type": "execute_result"
    }
   ],
   "source": [
    "split = char_split.split_text(texto)\n",
    "len(split)"
   ]
  },
  {
   "cell_type": "code",
   "execution_count": 16,
   "id": "fef782f6-f34b-4dcf-ba38-c02c57da65f2",
   "metadata": {},
   "outputs": [
    {
     "data": {
      "text/plain": [
       "['abcdefghijklmnopqrstuvwxyzabcdefghijklmnopqrstuvwxyzabcdefghijklmnopqrstuvwxyzabcdefghijklmnopq',\n",
       " 'ijklmnopqrstuvwxyzabcdefghijklmnopqrstuvwxyz']"
      ]
     },
     "execution_count": 16,
     "metadata": {},
     "output_type": "execute_result"
    }
   ],
   "source": [
    "split"
   ]
  },
  {
   "cell_type": "markdown",
   "id": "1c39c667-899f-44c9-8711-555039a2d7c4",
   "metadata": {},
   "source": [
    "### RecursiveCharacterTextSplitter (2) - PDF"
   ]
  },
  {
   "cell_type": "code",
   "execution_count": 17,
   "id": "2261cb1b-aebb-4431-b5af-4b913ea780b4",
   "metadata": {},
   "outputs": [],
   "source": [
    "chunk_size = 50\n",
    "chunk_overlap = 10\n",
    "\n",
    "char_split = RecursiveCharacterTextSplitter(\n",
    "    chunk_size=chunk_size,\n",
    "    chunk_overlap=chunk_overlap\n",
    ")"
   ]
  },
  {
   "cell_type": "code",
   "execution_count": 18,
   "id": "c9a35af8-e1f8-4060-8655-7b6b115cff58",
   "metadata": {},
   "outputs": [
    {
     "data": {
      "text/plain": [
       "Document(metadata={'producer': 'Microsoft® Word 2013', 'creator': 'Microsoft® Word 2013', 'creationdate': '2016-05-04T10:06:39-03:00', 'author': 'lucas', 'moddate': '2016-05-04T10:06:39-03:00', 'source': 'files/apostila.pdf', 'total_pages': 28, 'page': 0, 'page_label': '1'}, page_content='INTRODUÇÃO À PROGRAMAÇÃO \\nCOM PYTHON  \\n \\n \\n \\n \\n \\n \\n \\nPrograma de Educação Tutorial  \\nGrupo PET - ADS    \\nIFSP -  Câmpus São Carlos')"
      ]
     },
     "execution_count": 18,
     "metadata": {},
     "output_type": "execute_result"
    }
   ],
   "source": [
    "arquivo = \"files/apostila.pdf\"\n",
    "loader = PyPDFLoader(arquivo)\n",
    "docs = loader.load()\n",
    "docs[0]"
   ]
  },
  {
   "cell_type": "code",
   "execution_count": 19,
   "id": "e6227bfc-fc76-4b24-a1bb-ed81bf5dc97a",
   "metadata": {},
   "outputs": [
    {
     "data": {
      "text/plain": [
       "1127"
      ]
     },
     "execution_count": 19,
     "metadata": {},
     "output_type": "execute_result"
    }
   ],
   "source": [
    "split = char_split.split_documents(docs)\n",
    "len(split)"
   ]
  }
 ],
 "metadata": {
  "kernelspec": {
   "display_name": "Python 3 (ipykernel)",
   "language": "python",
   "name": "python3"
  },
  "language_info": {
   "codemirror_mode": {
    "name": "ipython",
    "version": 3
   },
   "file_extension": ".py",
   "mimetype": "text/x-python",
   "name": "python",
   "nbconvert_exporter": "python",
   "pygments_lexer": "ipython3",
   "version": "3.12.3"
  }
 },
 "nbformat": 4,
 "nbformat_minor": 5
}
