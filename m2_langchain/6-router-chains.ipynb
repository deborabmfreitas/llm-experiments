{
 "cells": [
  {
   "cell_type": "markdown",
   "id": "de5022c3-5408-4af7-8b54-1a0371cd1b17",
   "metadata": {},
   "source": [
    "## Langchain (router chains)"
   ]
  },
  {
   "cell_type": "markdown",
   "id": "875f0a5d-7616-4ba7-8f99-5d6096c097fb",
   "metadata": {},
   "source": [
    "* Router Chains são um tipo de chain que decide dinamicamente qual subchain executar, com base na entrada do usuário\n",
    "* É como uma central inteligente de roteamento, que analisa a pergunta ou comando e escolhe qual caminho ou \"ferramenta\" deve ser usada."
   ]
  },
  {
   "cell_type": "code",
   "execution_count": 1,
   "id": "80e2cefd-df4a-4f78-9a0e-63514be0c3b1",
   "metadata": {},
   "outputs": [],
   "source": [
    "# Bibliotecas\n",
    "\n",
    "from langchain_openai import ChatOpenAI\n",
    "from langchain.prompts import ChatMessagePromptTemplate, PromptTemplate\n",
    "from langchain.chains import LLMChain\n",
    "from langchain.prompts import ChatPromptTemplate\n",
    "\n",
    "from langchain.chains.router import MultiPromptChain\n",
    "from langchain.chains.router.llm_router import LLMRouterChain, RouterOutputParser\n",
    "from langchain.chains.router.multi_prompt_prompt import MULTI_PROMPT_ROUTER_TEMPLATE"
   ]
  },
  {
   "cell_type": "code",
   "execution_count": 2,
   "id": "fb566b37-1b0c-42e5-a4a0-0aa5d523530f",
   "metadata": {},
   "outputs": [],
   "source": [
    "quimica_template = ChatPromptTemplate.from_template(\"\"\"Você é um químico muito experiente.\n",
    "Você é excelente em responder perguntas sobre química de forma clara e objetiva.\n",
    "Você tem um grande entendimento sobre reações químicas, elementos, compostos,\n",
    "e a relação entre a estrutura molecular e as propriedades dos materiais.\n",
    "Quando você não sabe a resposta para uma pergunta, você admite que não sabe.\n",
    "\n",
    "Aqui está uma pergunta: {input}\"\"\")\n",
    "\n",
    "geografia_template = ChatPromptTemplate.from_template(\"\"\"Você é um geógrafo muito bem informado.\n",
    "Você tem um vasto conhecimento sobre os processos naturais, geografia humana, \n",
    "clima, relevo e interações entre o ambiente e a sociedade.\n",
    "Você é habilidoso em explicar como fatores físicos e humanos afetam\n",
    "o mundo ao nosso redor.\n",
    "\n",
    "Aqui está uma pergunta: {input}\"\"\")\n",
    "\n",
    "biologia_template = ChatPromptTemplate.from_template(\"\"\"Você é um biólogo muito capacitado.\n",
    "Você tem um grande conhecimento sobre os seres vivos, suas estruturas, funções\n",
    "e a interação entre diferentes organismos e seus ambientes.\n",
    "Você é excelente em explicar conceitos de biologia de maneira clara,\n",
    "tanto para iniciantes quanto para estudantes avançados.\n",
    "\n",
    "Aqui está uma pergunta: {input}\"\"\")"
   ]
  },
  {
   "cell_type": "code",
   "execution_count": 3,
   "id": "1499ca61-8762-4c1f-8259-4b4df77a1346",
   "metadata": {},
   "outputs": [],
   "source": [
    "prompt_infos = [\n",
    "    {\n",
    "        \"name\": \"Química\",\n",
    "        \"description\": \"Ideal para responder pergunta de química\",\n",
    "        \"prompt_template\": quimica_template\n",
    "    },\n",
    "     {\n",
    "        \"name\": \"Geografia\",\n",
    "        \"description\": \"Ideal para responder pergunta de geografia\",\n",
    "        \"prompt_template\": geografia_template\n",
    "    },\n",
    "      {\n",
    "        \"name\": \"Biologia\",\n",
    "        \"description\": \"Ideal para responder pergunta de biologia\",\n",
    "        \"prompt_template\": biologia_template\n",
    "    },\n",
    "]"
   ]
  },
  {
   "cell_type": "code",
   "execution_count": 4,
   "id": "3d092c14-6b5b-4a7b-bc38-c17dfb3f08af",
   "metadata": {},
   "outputs": [],
   "source": [
    "chat = ChatOpenAI(model=\"gpt-3.5-turbo-0125\")"
   ]
  },
  {
   "cell_type": "code",
   "execution_count": 5,
   "id": "7dd7726d-cc0d-4836-b83a-ec2219946087",
   "metadata": {},
   "outputs": [
    {
     "data": {
      "text/plain": [
       "{'Química': LLMChain(verbose=True, prompt=ChatPromptTemplate(input_variables=['input'], messages=[HumanMessagePromptTemplate(prompt=PromptTemplate(input_variables=['input'], template='Você é um químico muito experiente.\\nVocê é excelente em responder perguntas sobre química de forma clara e objetiva.\\nVocê tem um grande entendimento sobre reações químicas, elementos, compostos,\\ne a relação entre a estrutura molecular e as propriedades dos materiais.\\nQuando você não sabe a resposta para uma pergunta, você admite que não sabe.\\n\\nAqui está uma pergunta: {input}'))]), llm=ChatOpenAI(client=<openai.resources.chat.completions.Completions object at 0x79771bc3bd10>, async_client=<openai.resources.chat.completions.AsyncCompletions object at 0x79771bc7d910>, model_name='gpt-3.5-turbo-0125', openai_api_key=SecretStr('**********'), openai_proxy='')),\n",
       " 'Geografia': LLMChain(verbose=True, prompt=ChatPromptTemplate(input_variables=['input'], messages=[HumanMessagePromptTemplate(prompt=PromptTemplate(input_variables=['input'], template='Você é um geógrafo muito bem informado.\\nVocê tem um vasto conhecimento sobre os processos naturais, geografia humana, \\nclima, relevo e interações entre o ambiente e a sociedade.\\nVocê é habilidoso em explicar como fatores físicos e humanos afetam\\no mundo ao nosso redor.\\n\\nAqui está uma pergunta: {input}'))]), llm=ChatOpenAI(client=<openai.resources.chat.completions.Completions object at 0x79771bc3bd10>, async_client=<openai.resources.chat.completions.AsyncCompletions object at 0x79771bc7d910>, model_name='gpt-3.5-turbo-0125', openai_api_key=SecretStr('**********'), openai_proxy='')),\n",
       " 'Biologia': LLMChain(verbose=True, prompt=ChatPromptTemplate(input_variables=['input'], messages=[HumanMessagePromptTemplate(prompt=PromptTemplate(input_variables=['input'], template='Você é um biólogo muito capacitado.\\nVocê tem um grande conhecimento sobre os seres vivos, suas estruturas, funções\\ne a interação entre diferentes organismos e seus ambientes.\\nVocê é excelente em explicar conceitos de biologia de maneira clara,\\ntanto para iniciantes quanto para estudantes avançados.\\n\\nAqui está uma pergunta: {input}'))]), llm=ChatOpenAI(client=<openai.resources.chat.completions.Completions object at 0x79771bc3bd10>, async_client=<openai.resources.chat.completions.AsyncCompletions object at 0x79771bc7d910>, model_name='gpt-3.5-turbo-0125', openai_api_key=SecretStr('**********'), openai_proxy=''))}"
      ]
     },
     "execution_count": 5,
     "metadata": {},
     "output_type": "execute_result"
    }
   ],
   "source": [
    "chains_destino = {}\n",
    "for info in prompt_infos:\n",
    "    chain = LLMChain(llm=chat, prompt=info[\"prompt_template\"], verbose=True)\n",
    "    chains_destino[info[\"name\"]] = chain\n",
    "    \n",
    "chains_destino"
   ]
  },
  {
   "cell_type": "code",
   "execution_count": 6,
   "id": "3af789f3-eea2-47e8-a7fa-9100ac8844f7",
   "metadata": {},
   "outputs": [
    {
     "name": "stdout",
     "output_type": "stream",
     "text": [
      "Química: Ideal para responder pergunta de química\n",
      "Geografia: Ideal para responder pergunta de geografia\n",
      "Biologia: Ideal para responder pergunta de biologia\n"
     ]
    }
   ],
   "source": [
    "destinos = [f'{p[\"name\"]}: {p[\"description\"]}' for p in prompt_infos]\n",
    "destinos_str = \"\\n\".join(destinos)\n",
    "print(destinos_str)"
   ]
  },
  {
   "cell_type": "code",
   "execution_count": 7,
   "id": "f4a76db4-dadc-4efb-b40c-cf613fd77a2e",
   "metadata": {},
   "outputs": [
    {
     "name": "stdout",
     "output_type": "stream",
     "text": [
      "Given a raw text input to a language model select the model prompt best suited for the input. You will be given the names of the available prompts and a description of what the prompt is best suited for. You may also revise the original input if you think that revising it will ultimately lead to a better response from the language model.\n",
      "\n",
      "<< FORMATTING >>\n",
      "Return a markdown code snippet with a JSON object formatted to look like:\n",
      "```json\n",
      "{{\n",
      "    \"destination\": string \\ name of the prompt to use or \"DEFAULT\"\n",
      "    \"next_inputs\": string \\ a potentially modified version of the original input\n",
      "}}\n",
      "```\n",
      "\n",
      "REMEMBER: \"destination\" MUST be one of the candidate prompt names specified below OR it can be \"DEFAULT\" if the input is not well suited for any of the candidate prompts.\n",
      "REMEMBER: \"next_inputs\" can just be the original input if you don't think any modifications are needed.\n",
      "\n",
      "<< CANDIDATE PROMPTS >>\n",
      "Química: Ideal para responder pergunta de química\n",
      "Geografia: Ideal para responder pergunta de geografia\n",
      "Biologia: Ideal para responder pergunta de biologia\n",
      "\n",
      "<< INPUT >>\n",
      "{input}\n",
      "\n",
      "<< OUTPUT (must include ```json at the start of the response) >>\n",
      "<< OUTPUT (must end with ```) >>\n",
      "\n"
     ]
    }
   ],
   "source": [
    "router_template = MULTI_PROMPT_ROUTER_TEMPLATE.format(\n",
    "    destinations=destinos_str\n",
    ")\n",
    "\n",
    "print(router_template)"
   ]
  },
  {
   "cell_type": "code",
   "execution_count": 8,
   "id": "dda6d7ce-b15f-49ac-8e89-bc4bb1a1430d",
   "metadata": {},
   "outputs": [],
   "source": [
    "router_template = PromptTemplate(\n",
    "    template=router_template,\n",
    "    input_variables=[\"input\"],\n",
    "    output_parser=RouterOutputParser()\n",
    ")\n",
    "\n",
    "router_chain = LLMRouterChain.from_llm(chat, router_template, verbose=True)"
   ]
  },
  {
   "cell_type": "code",
   "execution_count": 9,
   "id": "89d65348-46e3-406d-813f-b0a657cdaca3",
   "metadata": {},
   "outputs": [],
   "source": [
    "default_prompt = ChatPromptTemplate.from_template(\"{input}\")\n",
    "default_chain = LLMChain(llm=chat, prompt=default_prompt, verbose=True)\n",
    "chain = MultiPromptChain(\n",
    "    router_chain=router_chain,\n",
    "    destination_chains=chains_destino,\n",
    "    default_chain=default_chain,\n",
    "    verbose=True\n",
    ")"
   ]
  },
  {
   "cell_type": "code",
   "execution_count": 10,
   "id": "cf46eaba-8ab6-471f-ba64-fbb1625bb080",
   "metadata": {},
   "outputs": [
    {
     "name": "stdout",
     "output_type": "stream",
     "text": [
      "\n",
      "\n",
      "\u001b[1m> Entering new MultiPromptChain chain...\u001b[0m\n",
      "\n",
      "\n",
      "\u001b[1m> Entering new LLMRouterChain chain...\u001b[0m\n",
      "\n",
      "\u001b[1m> Finished chain.\u001b[0m\n",
      "Geografia: {'input': 'O que é o El Niño?'}\n",
      "\n",
      "\u001b[1m> Entering new LLMChain chain...\u001b[0m\n",
      "Prompt after formatting:\n",
      "\u001b[32;1m\u001b[1;3mHuman: Você é um geógrafo muito bem informado.\n",
      "Você tem um vasto conhecimento sobre os processos naturais, geografia humana, \n",
      "clima, relevo e interações entre o ambiente e a sociedade.\n",
      "Você é habilidoso em explicar como fatores físicos e humanos afetam\n",
      "o mundo ao nosso redor.\n",
      "\n",
      "Aqui está uma pergunta: O que é o El Niño?\u001b[0m\n",
      "\n",
      "\u001b[1m> Finished chain.\u001b[0m\n",
      "\n",
      "\u001b[1m> Finished chain.\u001b[0m\n"
     ]
    },
    {
     "data": {
      "text/plain": [
       "{'input': 'O que é o El Niño?',\n",
       " 'text': 'O El Niño é um fenômeno climático que ocorre de forma irregular e afeta principalmente a região do Oceano Pacífico. Ele é caracterizado pelo aquecimento anormal das águas superficiais do oceano, causando mudanças significativas nos padrões climáticos ao redor do mundo.\\n\\nDurante um evento de El Niño, há um enfraquecimento dos ventos alísios que normalmente sopram do leste para o oeste no Oceano Pacífico, o que resulta em um aumento da temperatura da superfície do mar. Isso pode provocar chuvas intensas em algumas regiões e secas em outras, afetando a agricultura, a pesca, os recursos hídricos e até mesmo o clima global.\\n\\nO El Niño também está associado a fenômenos meteorológicos extremos, como furacões, tempestades e ondas de calor, que podem ter impactos devastadores em diversas partes do mundo. É importante monitorar e compreender o El Niño para melhorar a previsão de eventos climáticos e minimizar seus efeitos sobre a sociedade e o meio ambiente.'}"
      ]
     },
     "execution_count": 10,
     "metadata": {},
     "output_type": "execute_result"
    }
   ],
   "source": [
    "chain.invoke({\"input\": \"O que é o El Niño?\"})"
   ]
  },
  {
   "cell_type": "code",
   "execution_count": 11,
   "id": "94432ae3-4b91-4649-a5e7-79f8343c8fcb",
   "metadata": {},
   "outputs": [
    {
     "name": "stdout",
     "output_type": "stream",
     "text": [
      "\n",
      "\n",
      "\u001b[1m> Entering new MultiPromptChain chain...\u001b[0m\n",
      "\n",
      "\n",
      "\u001b[1m> Entering new LLMRouterChain chain...\u001b[0m\n",
      "\n",
      "\u001b[1m> Finished chain.\u001b[0m\n",
      "Química: {'input': 'Pra que serve a tabela periódica?'}\n",
      "\n",
      "\u001b[1m> Entering new LLMChain chain...\u001b[0m\n",
      "Prompt after formatting:\n",
      "\u001b[32;1m\u001b[1;3mHuman: Você é um químico muito experiente.\n",
      "Você é excelente em responder perguntas sobre química de forma clara e objetiva.\n",
      "Você tem um grande entendimento sobre reações químicas, elementos, compostos,\n",
      "e a relação entre a estrutura molecular e as propriedades dos materiais.\n",
      "Quando você não sabe a resposta para uma pergunta, você admite que não sabe.\n",
      "\n",
      "Aqui está uma pergunta: Pra que serve a tabela periódica?\u001b[0m\n",
      "\n",
      "\u001b[1m> Finished chain.\u001b[0m\n",
      "\n",
      "\u001b[1m> Finished chain.\u001b[0m\n"
     ]
    },
    {
     "data": {
      "text/plain": [
       "{'input': 'Pra que serve a tabela periódica?',\n",
       " 'text': 'A tabela periódica é uma ferramenta fundamental na química, pois organiza todos os elementos químicos conhecidos de acordo com suas propriedades e características. Ela ajuda os cientistas a prever o comportamento dos elementos, suas reações químicas, propriedades físicas e químicas, bem como suas afinidades eletroquímicas. A tabela periódica também fornece informações sobre a estrutura atômica dos elementos, seu número atômico, massa atômica, configuração eletrônica, entre outras informações essenciais. Em resumo, a tabela periódica é essencial para a compreensão e estudo da química.'}"
      ]
     },
     "execution_count": 11,
     "metadata": {},
     "output_type": "execute_result"
    }
   ],
   "source": [
    "chain.invoke({\"input\": \"Pra que serve a tabela periódica?\"})"
   ]
  },
  {
   "cell_type": "code",
   "execution_count": 12,
   "id": "12a019c0-f6c3-4132-ad9f-fa42e7de0ccc",
   "metadata": {},
   "outputs": [
    {
     "name": "stdout",
     "output_type": "stream",
     "text": [
      "\n",
      "\n",
      "\u001b[1m> Entering new MultiPromptChain chain...\u001b[0m\n",
      "\n",
      "\n",
      "\u001b[1m> Entering new LLMRouterChain chain...\u001b[0m\n",
      "\n",
      "\u001b[1m> Finished chain.\u001b[0m\n",
      "Biologia: {'input': 'Pra que serve a fotossíntese?'}\n",
      "\n",
      "\u001b[1m> Entering new LLMChain chain...\u001b[0m\n",
      "Prompt after formatting:\n",
      "\u001b[32;1m\u001b[1;3mHuman: Você é um biólogo muito capacitado.\n",
      "Você tem um grande conhecimento sobre os seres vivos, suas estruturas, funções\n",
      "e a interação entre diferentes organismos e seus ambientes.\n",
      "Você é excelente em explicar conceitos de biologia de maneira clara,\n",
      "tanto para iniciantes quanto para estudantes avançados.\n",
      "\n",
      "Aqui está uma pergunta: Pra que serve a fotossíntese?\u001b[0m\n",
      "\n",
      "\u001b[1m> Finished chain.\u001b[0m\n",
      "\n",
      "\u001b[1m> Finished chain.\u001b[0m\n"
     ]
    },
    {
     "data": {
      "text/plain": [
       "{'input': 'Pra que serve a fotossíntese?',\n",
       " 'text': 'A fotossíntese é um processo fundamental realizado pelas plantas, algas e algumas bactérias, onde a luz solar é convertida em energia química. Esse processo é essencial para a produção de alimentos e oxigênio na atmosfera. Durante a fotossíntese, as plantas absorvem dióxido de carbono do ar e água do solo, utilizando a energia da luz solar para transformar esses compostos em glicose e oxigênio. A glicose é utilizada como fonte de energia para o metabolismo celular das plantas, enquanto o oxigênio é liberado no ambiente, sendo essencial para a respiração de animais e outros organismos que dependem do oxigênio para sobreviver. Em resumo, a fotossíntese é responsável por fornecer energia para as plantas, produzir oxigênio e manter o equilíbrio do ciclo do carbono na natureza.'}"
      ]
     },
     "execution_count": 12,
     "metadata": {},
     "output_type": "execute_result"
    }
   ],
   "source": [
    "chain.invoke({\"input\": \"Pra que serve a fotossíntese?\"})"
   ]
  }
 ],
 "metadata": {
  "kernelspec": {
   "display_name": "Python 3 (ipykernel)",
   "language": "python",
   "name": "python3"
  },
  "language_info": {
   "codemirror_mode": {
    "name": "ipython",
    "version": 3
   },
   "file_extension": ".py",
   "mimetype": "text/x-python",
   "name": "python",
   "nbconvert_exporter": "python",
   "pygments_lexer": "ipython3",
   "version": "3.12.3"
  }
 },
 "nbformat": 4,
 "nbformat_minor": 5
}
