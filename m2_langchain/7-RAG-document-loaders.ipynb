{
 "cells": [
  {
   "cell_type": "markdown",
   "id": "1005a2d4-8620-47f5-8b4e-5f3ccf63f192",
   "metadata": {},
   "source": [
    "## RAG (Retrieval-Augmented Generation)"
   ]
  },
  {
   "cell_type": "markdown",
   "id": "4480eb9c-a3a8-4c71-ab4a-b00d23dabea6",
   "metadata": {},
   "source": [
    "Técnica que combina modelos de linguagem com sistemas de recuperação de informações como mecanismo de busca.\n",
    "\n",
    "Pipeline básico para construir um sistema RAG utilizando a biblioteca LangChain:\n",
    "\n",
    "Essas etapas são como ensinar a IA a \"ler\", \"entender\" e \"lembrar\" seus documentos, para que ela possa responder perguntas com base neles.\n",
    "\n",
    "**1. Document Loaders (Carregadores de documentos)**\n",
    "\n",
    "São os componentes que lêem seus arquivos (como PDFs, DOCX, CSV, páginas web, etc.) e os transformam em blocos de texto utilizáveis. Exemplo: Carregar um manual técnico em PDF para uso pela IA.\n",
    "\n",
    "**2. Text Split (Divisão de texto)**\n",
    "\n",
    "Depois de carregar os documentos, é preciso dividir o conteúdo em partes menores (chamadas \"chunks\").\n",
    "Por quê? Porque modelos de linguagem têm limite de contexto (quantidade de texto que conseguem processar por vez). Exemplo: Dividir um contrato de 30 páginas em parágrafos ou seções.\n",
    "\n",
    "**3. Embeddings (Vetorização semântica)**\n",
    "\n",
    "Cada pedaço de texto (chunk) é convertido em um vetor numérico (embedding), que representa o significado daquele texto. Isso permite que a IA compare e encontre os trechos mais relevantes para uma pergunta. Exemplo: \"Qual a política de férias?\" → a IA procura embeddings parecidos com essa pergunta.\n",
    "\n",
    "**4. Vector Stores (Armazenamento vetorial)**\n",
    "\n",
    "Os embeddings são armazenados em um banco vetorial (como FAISS, Pinecone, Weaviate, etc.), onde podem ser rapidamente buscados com base na similaridade semântica. Exemplo: A IA encontra o pedaço de texto mais parecido com a pergunta e usa isso como contexto para gerar a resposta.\n",
    "\n",
    "**5. Retrieval(Recuperação do contexto)**\n",
    "\n",
    "O sistema recupera os textos mais relevantes realizando uma busca semântica (os chunks mais semelhantes semântica ou contextualmente) para identificar os trechos mais relevantes do conteúdo previamente armazenado no Vector Store. Após isso, entrega esse conteúdo como contexto para o modelo de linguagem (LLM) gerar uma resposta com base nele.\n",
    "\n",
    "Isso é feito ao:\n",
    "- Converter a pergunta do usuário em um embedding.\n",
    "- Comparar esse embedding com os vetores armazenados.\n",
    "- Selecionar os chunks (trechos de texto) com maior similaridade semântica.\n",
    "\n",
    "Exemplo:\n",
    "- Pergunta: “Como funciona a política de home office?”\n",
    "- O sistema encontra 2 ou 3 trechos de documentos relacionados à política de trabalho remoto e envia esses trechos para o modelo de linguagem, junto com a pergunta.\n",
    "\n",
    "**6. Generation (LLM)**\n",
    "   \n",
    "Usa os trechos recuperados para gerar uma resposta natural e fundamentada. Essa geração é condicionada ao conteúdo recuperado, o que evita invenções (\"alucinações\") e aumenta a precisão e confiabilidade da resposta."
   ]
  },
  {
   "cell_type": "markdown",
   "id": "8f428f1e-f865-4c90-bc94-7f66e416c721",
   "metadata": {},
   "source": [
    "---"
   ]
  },
  {
   "cell_type": "markdown",
   "id": "0da4d9a3-ff6e-40de-a3e8-d43dbe37305c",
   "metadata": {},
   "source": [
    "## Document loader"
   ]
  },
  {
   "cell_type": "markdown",
   "id": "8f4c67c9-0198-4387-b5c3-a9787823bf05",
   "metadata": {},
   "source": [
    "### Bibliotecas"
   ]
  },
  {
   "cell_type": "code",
   "execution_count": 1,
   "id": "eaafe082-28b5-4625-a910-bbf0463f0dcd",
   "metadata": {},
   "outputs": [],
   "source": [
    "from langchain_community.document_loaders.pdf import PyPDFLoader\n",
    "from langchain.chains.question_answering import load_qa_chain\n",
    "from langchain_openai.chat_models import ChatOpenAI\n",
    "\n",
    "# CSV\n",
    "from langchain_community.document_loaders.csv_loader import CSVLoader\n",
    "\n",
    "# Vídeo:\n",
    "from langchain_community.document_loaders.generic import GenericLoader\n",
    "from langchain_community.document_loaders.blob_loaders.youtube_audio import YoutubeAudioLoader\n",
    "from langchain.document_loaders.parsers import OpenAIWhisperParser"
   ]
  },
  {
   "cell_type": "markdown",
   "id": "1db466d5-2ac0-40d9-b634-41689cb3f62b",
   "metadata": {
    "jp-MarkdownHeadingCollapsed": true
   },
   "source": [
    "### Importações"
   ]
  },
  {
   "cell_type": "code",
   "execution_count": 2,
   "id": "8cb4ddd5-71fe-4745-80bf-14054723bb5d",
   "metadata": {},
   "outputs": [],
   "source": [
    "arquivo = 'files/apostila.pdf'\n",
    "loader = PyPDFLoader(arquivo)\n",
    "documentos = loader.load()"
   ]
  },
  {
   "cell_type": "markdown",
   "id": "f84d0df3-ddd6-4d1f-9bc0-7bec91483734",
   "metadata": {
    "jp-MarkdownHeadingCollapsed": true
   },
   "source": [
    "### Consultas"
   ]
  },
  {
   "cell_type": "code",
   "execution_count": 3,
   "id": "3a246f7f-e24b-46d7-baf6-26283a3f78a3",
   "metadata": {},
   "outputs": [
    {
     "data": {
      "text/plain": [
       "28"
      ]
     },
     "execution_count": 3,
     "metadata": {},
     "output_type": "execute_result"
    }
   ],
   "source": [
    "# Total de páginas\n",
    "\n",
    "len(documentos)"
   ]
  },
  {
   "cell_type": "code",
   "execution_count": 4,
   "id": "3dde2b45-3330-4bcb-8636-6e9e1cb1223f",
   "metadata": {},
   "outputs": [
    {
     "data": {
      "text/plain": [
       "Document(page_content=' \\n  \\n \\n \\n \\n \\n \\n \\n \\n \\nINTRODUÇÃO À PROGRAMAÇÃO \\nCOM PYTHON  \\n \\n \\n \\n \\n \\n \\n \\nPrograma de Educação Tutorial  \\nGrupo PET - ADS    \\nIFSP -  Câmpus São Carlos  \\n \\n \\n \\n \\n \\n  ', metadata={'source': 'files/apostila.pdf', 'page': 0})"
      ]
     },
     "execution_count": 4,
     "metadata": {},
     "output_type": "execute_result"
    }
   ],
   "source": [
    "# Sumário\n",
    "\n",
    "documentos[0]"
   ]
  },
  {
   "cell_type": "code",
   "execution_count": 5,
   "id": "9a6ad2f2-f600-4c59-9d25-8ea0dc1ad956",
   "metadata": {},
   "outputs": [
    {
     "data": {
      "text/plain": [
       "'3 \\n 2. Digite o comando sudo  apt-get install  python3.4 no terminal do GNU/Linux para inicializar \\no processo de instalação.  \\n \\n \\n \\n3. Terminado o download , o interpretador já estará instalado no  computador.  \\n \\n \\n \\n \\nb) Instalação  do IDLE  no Linux  \\n \\nO IDLE é um ambiente in tegrado de desenvolvimento  que acompanha a instalação do interpretador \\nPython em sistemas operacionais Windows. Para tê -lo disponível em distribuições Linux basta \\nseguir as e tapas abaixo:  \\n \\n1. Acesse o t erminal Linux . \\n \\n \\n \\n2. Digite o comando sudo  apt-get install idle-python3.4 . \\n \\n \\n \\n3. Para executá -lo basta digitar no terminal idle-python3.4 & . \\n \\n \\n \\n \\n'"
      ]
     },
     "execution_count": 5,
     "metadata": {},
     "output_type": "execute_result"
    }
   ],
   "source": [
    "# Consultar uma página específica\n",
    "\n",
    "documentos[5].page_content"
   ]
  },
  {
   "cell_type": "markdown",
   "id": "e0c76f05-36d1-486c-9ad9-402dcf2ef557",
   "metadata": {
    "jp-MarkdownHeadingCollapsed": true
   },
   "source": [
    "## Carregamento de modelo de perguntas (document loader)"
   ]
  },
  {
   "cell_type": "markdown",
   "id": "68e2c51b-7894-4aaa-a0a2-f64809934f43",
   "metadata": {},
   "source": [
    "Dá pra fazer perguntas com base no documento, mas ainda não é retrieval (precisa de todas as etapas citadas anteriormente)."
   ]
  },
  {
   "cell_type": "code",
   "execution_count": 6,
   "id": "3874d78e-83e2-4773-b4e4-f238adb21958",
   "metadata": {},
   "outputs": [],
   "source": [
    "import os\n",
    "from dotenv import load_dotenv\n",
    "load_dotenv()\n",
    "secret_key = os.getenv(\"OPEN_API_KEY\")"
   ]
  },
  {
   "cell_type": "code",
   "execution_count": 7,
   "id": "43499697-d0b3-4384-aa92-e6fd9e0dccdb",
   "metadata": {},
   "outputs": [],
   "source": [
    "chat = ChatOpenAI(openai_api_key=secret_key)"
   ]
  },
  {
   "cell_type": "code",
   "execution_count": 8,
   "id": "292022d2-700c-4021-8bce-02cfa1963047",
   "metadata": {},
   "outputs": [],
   "source": [
    "chain = load_qa_chain(llm=chat,chain_type='stuff',verbose=True)"
   ]
  },
  {
   "cell_type": "code",
   "execution_count": 9,
   "id": "0263870e-6da3-4f56-8eab-dadc632d0a44",
   "metadata": {},
   "outputs": [
    {
     "name": "stderr",
     "output_type": "stream",
     "text": [
      "/home/debora/Downloads/llm-experiments/m2_langchain/.venv1/lib/python3.12/site-packages/langchain_core/_api/deprecation.py:119: LangChainDeprecationWarning: The method `Chain.run` was deprecated in langchain 0.1.0 and will be removed in 0.2.0. Use invoke instead.\n",
      "  warn_deprecated(\n"
     ]
    },
    {
     "name": "stdout",
     "output_type": "stream",
     "text": [
      "\n",
      "\n",
      "\u001b[1m> Entering new StuffDocumentsChain chain...\u001b[0m\n",
      "\n",
      "\n",
      "\u001b[1m> Entering new LLMChain chain...\u001b[0m\n",
      "Prompt after formatting:\n",
      "\u001b[32;1m\u001b[1;3mSystem: Use the following pieces of context to answer the user's question. \n",
      "If you don't know the answer, just say that you don't know, don't try to make up an answer.\n",
      "----------------\n",
      " \n",
      "  \n",
      " \n",
      " \n",
      " \n",
      " \n",
      " \n",
      " \n",
      " \n",
      " \n",
      "INTRODUÇÃO À PROGRAMAÇÃO \n",
      "COM PYTHON  \n",
      " \n",
      " \n",
      " \n",
      " \n",
      " \n",
      " \n",
      " \n",
      "Programa de Educação Tutorial  \n",
      "Grupo PET - ADS    \n",
      "IFSP -  Câmpus São Carlos  \n",
      " \n",
      " \n",
      " \n",
      " \n",
      " \n",
      "  \n",
      "\n",
      " \n",
      "  \n",
      "Sumário  \n",
      "PREFÁCIO  ................................ ................................ ................................ ........................  1 \n",
      "1. INTRODUÇÃO  ................................ ................................ ................................ ..............  2 \n",
      "1.1 Característi cas da linguagem Python  ................................ ................................ ..... 2 \n",
      "1.2 Instalação do interpretador Python  ................................ ................................ .......  2 \n",
      "2. VARIÁVEIS  ................................ ................................ ................................ ...................  4 \n",
      "3. STRINGS  ................................ ................................ ................................ ......................  6 \n",
      "3.1 Concatenação d e strings  ................................ ................................ ........................  6 \n",
      "3.2 Manipulação de strings  ................................ ................................ ..........................  7 \n",
      "3.3 Fatiamento de strings  ................................ ................................ ............................  8 \n",
      "3.4 Exercícios: strings  ................................ ................................ ................................ .. 8 \n",
      "4. NÚMEROS  ................................ ................................ ................................ ...................  9 \n",
      "4.1 Operadores numéricos  ................................ ................................ ..........................  9 \n",
      "4.2 Exercícios: números  ................................ ................................ ...............................  9 \n",
      "5. LISTAS  ................................ ................................ ................................ .......................  10 \n",
      "5.1 Funções para manipulação de listas  ................................ ................................ .... 10 \n",
      "5.2 Operações com listas  ................................ ................................ ...........................  11 \n",
      "5.3 Fatiamento de listas  ................................ ................................ ............................  11 \n",
      "5.4 Criação de listas com range ( )  ................................ ................................ .............  12 \n",
      "5.5 Exercícios: listas  ................................ ................................ ................................ ... 12 \n",
      "6. TUPLAS  ................................ ................................ ................................ .....................  13 \n",
      "7. DICIONÁRIOS  ................................ ................................ ................................ ............  13 \n",
      "7.1 Operações em dicionários  ................................ ................................ ...................  14 \n",
      "7.2 Exercícios: dicionários  ................................ ................................ ..........................  14 \n",
      "8. BIBLIOTECAS  ................................ ................................ ................................ .............  15 \n",
      "9. ESTRUTURAS DE DECISÃO  ................................ ................................ .........................  15 \n",
      "9.1 Estrutura if  ................................ ................................ ................................ ...........  16 \n",
      "9.2 Estrutura if..else  ................................ ................................ ................................ .. 16 \n",
      "9.3 Comando  if..elif ..else  ................................ ................................ ...........................  16 \n",
      "9.4 Exercícios: estruturas de decisão  ................................ ................................ .........  17 \n",
      "\n",
      " \n",
      " 10. ESTRUTURAS DE REPETIÇÃO  ................................ ................................ ...................  17 \n",
      "10.1 Laço while  ................................ ................................ ................................ ..........  17 \n",
      "10.2 Laço for  ................................ ................................ ................................ ..............  18 \n",
      "10.3 Exercício s: estrutura de repetição ................................ ................................ ...... 19 \n",
      "11. FUNÇÕES  ................................ ................................ ................................ ................  19 \n",
      "11.1 Como definir uma função  ................................ ................................ ..................  19 \n",
      "11.2 Parâmetros e argumentos  ................................ ................................ .................  19 \n",
      "11.3 Escopo das variáveis  ................................ ................................ ..........................  20 \n",
      "11.4 Retorno de valores  ................................ ................................ ............................  20 \n",
      "11.5  Valor padrão  ................................ ................................ ................................ ...... 21 \n",
      "11.6 Exercícios: funções ................................ ................................ .............................  21 \n",
      "12. RESPOSTAS DOS EXERCÍCIOS  ................................ ................................ ...................  22 \n",
      "BIBLIOGRAFIA  ................................ ................................ ................................ ...............  25 \n",
      " \n",
      " \n",
      "\n",
      "1 \n",
      " PREFÁCIO  \n",
      " \n",
      "Este material foi escrito para ser utilizado em cursos de extensão de  Introdução à \n",
      "Programação com Python , do Instituto Federal de Educação, Ciência e Tecnologia de \n",
      "São Paulo , câmpus São Carlos.  \n",
      "A apostila foi desenvolvida pelo s integrantes do Programa de Educação Tutorial do curso \n",
      "de Tecnologia em Análise e Desenvolvimento de Sistemas - grupo PET ADS  / IFSP  São \n",
      "Carlos. O grupo iniciou suas atividades em 2011 , e realiza atividades diversas  envolvendo \n",
      "Ensino, Pesquisa e Extensão.  Entre as linguagens e ferramentas de programação estudadas \n",
      "pelo grupo estão : o ambiente de desenvolvimento Lazarus, o editor de jogos Construct 2, as \n",
      "linguagens Ruby, Python e JavaScript, os frameworks Rails, Django, Web2Py e Grails.  \n",
      "A linguagem Python s e destacou pela facilidade de programação e versatilidade. Python é \n",
      "uma linguagem de uso geral, que pode ser utilizada para diversas aplicações. Apresenta \n",
      "uma sintaxe simples, tornando os programas mais legíveis, o que também facilita o \n",
      "aprendizado da ling uagem. Possui listas, dicionários e tuplas como estruturas de dados \n",
      "pré-definidas. É uma linguagem multiparadigma: suporta os paradigmas de programação \n",
      "procedural, funcional e orientado a objetos.  \n",
      "Diversos petianos colaboraram na confecção desta apostila.  Mas gostaria de agradecer \n",
      "especialmente quatro estudantes que se destacaram pelo empenho e dedicação na \n",
      "execução dessa tarefa: José Picharillo, Lucas Limão, Viviane Quinaia e Camila Couto.   \n",
      "Este é um material de apoio para um curso de extensão introdutório, cujo objetivo é \n",
      "divulgar a linguagem Python. Não é um material preparado para autoaprendizagem, \n",
      "embora seja possível utilizá -lo com esse fim.  \n",
      "Reforçando, este é um material introdutório. Tem muit o mais  para aprender em Python: \n",
      "orientação a objetos, programação funcional, metaprogramação, interface gráfica, \n",
      "expressões regulares, threads, tratamento de exceções, funções anônimas, geradores, \n",
      "desenvolvimento web, aplicativos móveis, entre outr as.  \n",
      "Bem -vindo ao mundo Python!  \n",
      " \n",
      " \n",
      " \n",
      "Prof. Dr. João Luiz Franco  \n",
      "Tutor do grupo PET - ADS  / São Carlos  \n",
      "  \n",
      "\n",
      "2 \n",
      "  \n",
      "1. INTRODUÇÃO  \n",
      " \n",
      "1.1 Características da l inguagem Python  \n",
      " \n",
      "A linguagem de programação Python  foi criada  em 1991  por Guido V an Rossum em, com a \n",
      "finalidade de ser uma linguagem simpl es e de fácil compreensão. Ape sar de simples, Python é uma \n",
      "linguagem muito poderosa, que pode ser usada para desenvolver e administrar grandes sistemas.  \n",
      " \n",
      "Uma das principais características que diferenci a a linguagem Python das outras  é a legibilidade dos \n",
      "programas escritos . Isto ocorre porque , em outras linguagens , é muito comum o uso  excess ivo de \n",
      "marcações (p onto ou ponto e vírgula ), de marcadores ( chaves, colchetes ou parêntes es) e de \n",
      "palavras especiais  (begin/end), o que torna mais  difícil a leitura e compreensão dos programas. Já \n",
      "em Python, o uso desses recursos é reduzido, deixando  a linguagem visualmente mais limpa, de \n",
      "fácil compreensão e leitura.  \n",
      " \n",
      "Entre outras características existentes n a linguagem P ython, destaca -se a simplicidade da \n",
      "linguagem, que facilita o aprend izado  da programa ção. Python também possui uma portabilidade \n",
      "muito grande para diversas plataformas diferentes, além de ser possível utilizar trechos de código s \n",
      "em outras linguagens . \n",
      " \n",
      "Python é um software livre, ou se ja, permite  que usuários e colaboradores possam modificar seu \n",
      "código fonte  e compartilhar essas novas atualizações , contribuindo  para o constante  \n",
      "aperfeiçoamento  da linguagem.  A especificação da linguagem é mantida pela empresa Python \n",
      "Software Foundation  (PSF).  \n",
      " \n",
      " \n",
      "1.2 Instalação do i nterpretador Python  \n",
      " \n",
      "a) Instala ção de  Python  no Linux  \n",
      " \n",
      "Nas versões mais recentes do GNU/Linux , o Python já se encontra instalado , bastando ao \n",
      "programador entrar no terminal e digitar python . Caso não esteja , segue m os passos para a \n",
      "instalaç ão no terminal : \n",
      " \n",
      "1. Acesse o terminal Linux.  \n",
      " \n",
      " \n",
      " \n",
      " \n",
      "\n",
      "\n",
      "3 \n",
      " 2. Digite o comando sudo  apt-get install  python3.4 no terminal do GNU/Linux para inicializar \n",
      "o processo de instalação.  \n",
      " \n",
      " \n",
      " \n",
      "3. Terminado o download , o interpretador já estará instalado no  computador.  \n",
      " \n",
      " \n",
      " \n",
      " \n",
      "b) Instalação  do IDLE  no Linux  \n",
      " \n",
      "O IDLE é um ambiente in tegrado de desenvolvimento  que acompanha a instalação do interpretador \n",
      "Python em sistemas operacionais Windows. Para tê -lo disponível em distribuições Linux basta \n",
      "seguir as e tapas abaixo:  \n",
      " \n",
      "1. Acesse o t erminal Linux . \n",
      " \n",
      " \n",
      " \n",
      "2. Digite o comando sudo  apt-get install idle-python3.4 . \n",
      " \n",
      " \n",
      " \n",
      "3. Para executá -lo basta digitar no terminal idle-python3.4 & . \n",
      " \n",
      " \n",
      " \n",
      " \n",
      "\n",
      "\n",
      "4 \n",
      " c) Instala ção do  Python  no Windows  \n",
      " \n",
      "A instalação do interpretador Python para Windows é mais simples,  conforme apresentado a seguir : \n",
      " \n",
      "1. Entre no site www.python.org . Na aba  download  selecione  a versão 3.5.1 . \n",
      " \n",
      "2. Após o download , execute o instalador mantendo , por default , todas as configurações a cada \n",
      "passo da instalação. Depois clique em Finalizar  e o interpretador Python já est ará instalado \n",
      "no computador.  \n",
      " \n",
      "Caso  você não consiga  execut ar o interpretador Python pelo prompt de comando , provavelmente o \n",
      "path não está configurado. Veja abaixo os passos para configurá -lo: \n",
      " \n",
      "1. Com o cursor do mouse vá até Computador , clique  com o botão direito e escolha \n",
      "Propriedades . \n",
      " \n",
      "2. Depois clique em Configurações avançadas do sistema  e, a seguir , Variáveis  de ambiente . \n",
      " \n",
      "3. Com ajuda  da barra de rolagem  procure a  variável chamada path, selecion e-a e escolha a \n",
      "opção Editar . \n",
      " \n",
      "4. Na próxima janela , no campo Valor de variável , você irá encontrar uma lista contendo \n",
      "vários paths  de outros programas. Para adicionar um novo path, vá até o final da lista e \n",
      "acrescente um ponto e vírgula  ( ; ). Depois disso , copie  o endereço da pasta onde se \n",
      "enco ntra instalado o interpretador P ython e c ole após ponto e vírgula . \n",
      " \n",
      " \n",
      "2. V ARIÁVEIS  \n",
      " \n",
      "Variáveis são pequenos espaços de memória, utilizados para armazenar e manipular dados. Em \n",
      "Python, os tipos de dados básicos  são:  tipo inteiro (armazena números inteiros ), tipo float (armazena \n",
      "números em formato decimal ), e tipo string (armazena um conjun to de caracteres). Cada variável \n",
      "pode armazenar apenas um tipo de dado  a cada instante . \n",
      " \n",
      "Em Python, diferente mente  de outras linguagens de programação, não é preciso declarar de que tipo \n",
      "será cada v ariável no início do programa. Q uando se faz uma atribuição  de valor , automaticamente a \n",
      "variável se torna do tipo do valor armazenado, como apresentado  nos exemplos a seguir :  \n",
      " \n",
      "Exemplos:  \n",
      " \n",
      "A variável a se torna uma variável do tipo inteiro.  \n",
      "\n",
      "\n",
      "5 \n",
      "  \n",
      "A variável b se torna uma variável do tipo float.  \n",
      " \n",
      "A variável c se torna  uma variável do tipo string.  \n",
      " \n",
      "A atribuição de valor para uma variável pode ser feita utiliza ndo o comando input( ), que \n",
      "solicita ao usuário o valor a  ser atribuído à variável . \n",
      " \n",
      "Exemplo:  \n",
      " \n",
      " \n",
      " \n",
      "O comando input() , sempre vai retornar uma s tring. Nesse caso, para retornar dados do tipo \n",
      "inteiro ou float, é preciso converter o tipo do valor lido . Para isso, utiliza -se o int (string ) para \n",
      "converter para o  tipo inteiro, ou float  (string ) para converter para o  tipo float.  \n",
      " \n",
      " \n",
      "Exemplo s: \n",
      " \n",
      " \n",
      " \n",
      " \n",
      " \n",
      "Em Python, os nomes da s variáveis devem ser inicia dos com uma letra, mas podem possuir outros \n",
      "tipos de caracteres , como números e símbolos. O símbolo sublinha ( _ ) também é aceito no início \n",
      "de nomes de variáveis.  \n",
      " \n",
      " \n",
      "\n",
      "Human: Do que se trata esse documento?\u001b[0m\n",
      "\n",
      "\u001b[1m> Finished chain.\u001b[0m\n",
      "\n",
      "\u001b[1m> Finished chain.\u001b[0m\n"
     ]
    },
    {
     "data": {
      "text/plain": [
       "'Esse documento é uma apostila de introdução à programação com Python, desenvolvida pelo Grupo PET - ADS do IFSP, Campus São Carlos. Ela aborda os conceitos básicos da linguagem Python, como variáveis, strings, números, listas, tuplas, dicionários, funções, estruturas de decisão e repetição, entre outros tópicos. O material foi criado para ser utilizado em cursos de extensão de introdução à programação com Python.'"
      ]
     },
     "execution_count": 9,
     "metadata": {},
     "output_type": "execute_result"
    }
   ],
   "source": [
    "pergunta = 'Do que se trata esse documento?'\n",
    "chain.run(input_documents=documentos[:8],question=pergunta)"
   ]
  },
  {
   "cell_type": "markdown",
   "id": "6b0273b5-4c0d-4db0-9031-37f919e57d71",
   "metadata": {},
   "source": [
    "## Carregamento de arquivo csv"
   ]
  },
  {
   "cell_type": "code",
   "execution_count": 10,
   "id": "099f8bbd-6d82-45af-bce6-ad2368f49c4e",
   "metadata": {},
   "outputs": [],
   "source": [
    "arquivo = 'files/imdb_movies.csv'\n",
    "loader = CSVLoader(arquivo)\n",
    "documentos = loader.load()"
   ]
  },
  {
   "cell_type": "code",
   "execution_count": 11,
   "id": "788842c1-e220-4d3f-8a15-ea3eee5fb9d6",
   "metadata": {},
   "outputs": [
    {
     "data": {
      "text/plain": [
       "1000"
      ]
     },
     "execution_count": 11,
     "metadata": {},
     "output_type": "execute_result"
    }
   ],
   "source": [
    "len(documentos)"
   ]
  },
  {
   "cell_type": "code",
   "execution_count": 12,
   "id": "2e63a8c2-81e2-406f-b215-ec24bb902d18",
   "metadata": {},
   "outputs": [
    {
     "data": {
      "text/plain": [
       "Document(page_content=': 5\\nMovie Name: The Godfather: Part II\\nYear of Release: (1974)\\nWatch Time: 202 min\\nMovie Rating: 9.0\\nMeatscore of movie: 90\\nVotes: 34,709\\nGross: $57.30M\\nDescription: The early life and career of Vito Corleone in 1920s New York City is portrayed, while his son, Michael, expands and tightens his grip on the family crime syndicate.', metadata={'source': 'files/imdb_movies.csv', 'row': 5})"
      ]
     },
     "execution_count": 12,
     "metadata": {},
     "output_type": "execute_result"
    }
   ],
   "source": [
    "documentos[5]"
   ]
  },
  {
   "cell_type": "code",
   "execution_count": 13,
   "id": "4e962fc5-055a-4890-b641-01470bd5c831",
   "metadata": {},
   "outputs": [
    {
     "data": {
      "text/plain": [
       "{'source': 'files/imdb_movies.csv', 'row': 80}"
      ]
     },
     "execution_count": 13,
     "metadata": {},
     "output_type": "execute_result"
    }
   ],
   "source": [
    "documentos[80].metadata"
   ]
  },
  {
   "cell_type": "code",
   "execution_count": 14,
   "id": "58933795-6ef9-4022-9cbf-53bae7fa61f8",
   "metadata": {},
   "outputs": [],
   "source": [
    "pergunta = 'Qual o filme com maior e com menor metascore?'"
   ]
  },
  {
   "cell_type": "code",
   "execution_count": 15,
   "id": "ebfc974a-e349-4b8a-84fc-0405b393ff50",
   "metadata": {},
   "outputs": [
    {
     "name": "stdout",
     "output_type": "stream",
     "text": [
      "\n",
      "\n",
      "\u001b[1m> Entering new StuffDocumentsChain chain...\u001b[0m\n",
      "\n",
      "\n",
      "\u001b[1m> Entering new LLMChain chain...\u001b[0m\n",
      "Prompt after formatting:\n",
      "\u001b[32;1m\u001b[1;3mSystem: Use the following pieces of context to answer the user's question. \n",
      "If you don't know the answer, just say that you don't know, don't try to make up an answer.\n",
      "----------------\n",
      ": 0\n",
      "Movie Name: The Shawshank Redemption\n",
      "Year of Release: (1994)\n",
      "Watch Time: 142 min\n",
      "Movie Rating: 9.3\n",
      "Meatscore of movie: 81\n",
      "Votes: 34,709\n",
      "Gross: $28.34M\n",
      "Description: Two imprisoned men bond over a number of years, finding solace and eventual redemption through acts of common decency.\n",
      "\n",
      ": 1\n",
      "Movie Name: The Godfather\n",
      "Year of Release: (1972)\n",
      "Watch Time: 175 min\n",
      "Movie Rating: 9.2\n",
      "Meatscore of movie: 100\n",
      "Votes: 34,709\n",
      "Gross: $134.97M\n",
      "Description: The aging patriarch of an organized crime dynasty in postwar New York City transfers control of his clandestine empire to his reluctant youngest son.\n",
      "\n",
      ": 2\n",
      "Movie Name: The Dark Knight\n",
      "Year of Release: (2008)\n",
      "Watch Time: 152 min\n",
      "Movie Rating: 9.0\n",
      "Meatscore of movie: 84\n",
      "Votes: 34,709\n",
      "Gross: $534.86M\n",
      "Description: When the menace known as the Joker wreaks havoc and chaos on the people of Gotham, Batman must accept one of the greatest psychological and physical tests of his ability to fight injustice.\n",
      "\n",
      ": 3\n",
      "Movie Name: The Lord of the Rings: The Return of the King\n",
      "Year of Release: (2003)\n",
      "Watch Time: 201 min\n",
      "Movie Rating: 9.0\n",
      "Meatscore of movie: 94\n",
      "Votes: 34,709\n",
      "Gross: $377.85M\n",
      "Description: Gandalf and Aragorn lead the World of Men against Sauron's army to draw his gaze from Frodo and Sam as they approach Mount Doom with the One Ring.\n",
      "\n",
      ": 4\n",
      "Movie Name: Schindler's List\n",
      "Year of Release: (1993)\n",
      "Watch Time: 195 min\n",
      "Movie Rating: 9.0\n",
      "Meatscore of movie: 94\n",
      "Votes: 34,709\n",
      "Gross: $96.90M\n",
      "Description: In German-occupied Poland during World War II, industrialist Oskar Schindler gradually becomes concerned for his Jewish workforce after witnessing their persecution by the Nazis.\n",
      "\n",
      ": 5\n",
      "Movie Name: The Godfather: Part II\n",
      "Year of Release: (1974)\n",
      "Watch Time: 202 min\n",
      "Movie Rating: 9.0\n",
      "Meatscore of movie: 90\n",
      "Votes: 34,709\n",
      "Gross: $57.30M\n",
      "Description: The early life and career of Vito Corleone in 1920s New York City is portrayed, while his son, Michael, expands and tightens his grip on the family crime syndicate.\n",
      "\n",
      ": 6\n",
      "Movie Name: 12 Angry Men\n",
      "Year of Release: (1957)\n",
      "Watch Time: 96 min\n",
      "Movie Rating: 9.0\n",
      "Meatscore of movie: 96\n",
      "Votes: 34,709\n",
      "Gross: $4.36M\n",
      "Description: The jury in a New York City murder trial is frustrated by a single member whose skeptical caution forces them to more carefully consider the evidence before jumping to a hasty verdict.\n",
      "\n",
      ": 7\n",
      "Movie Name: Jai Bhim\n",
      "Year of Release: (2021)\n",
      "Watch Time: 164 min\n",
      "Movie Rating: 8.9\n",
      "Meatscore of movie: ****\n",
      "Votes: 34,709\n",
      "Gross: #248\n",
      "Description: When a tribal man is arrested for a case of alleged theft, his wife turns to a human-rights lawyer to help bring justice.\n",
      "\n",
      ": 8\n",
      "Movie Name: Pulp Fiction\n",
      "Year of Release: (1994)\n",
      "Watch Time: 154 min\n",
      "Movie Rating: 8.9\n",
      "Meatscore of movie: 94\n",
      "Votes: 34,709\n",
      "Gross: $107.93M\n",
      "Description: The lives of two mob hitmen, a boxer, a gangster and his wife, and a pair of diner bandits intertwine in four tales of violence and redemption.\n",
      "\n",
      ": 9\n",
      "Movie Name: Inception\n",
      "Year of Release: (2010)\n",
      "Watch Time: 148 min\n",
      "Movie Rating: 8.8\n",
      "Meatscore of movie: 74\n",
      "Votes: 34,709\n",
      "Gross: $292.58M\n",
      "Description: A thief who steals corporate secrets through the use of dream-sharing technology is given the inverse task of planting an idea into the mind of a C.E.O., but his tragic past may doom the project and his team to disaster.\n",
      "Human: Qual o filme com maior e com menor metascore?\u001b[0m\n",
      "\n",
      "\u001b[1m> Finished chain.\u001b[0m\n",
      "\n",
      "\u001b[1m> Finished chain.\u001b[0m\n"
     ]
    },
    {
     "data": {
      "text/plain": [
       "'O filme com o maior Meatscore é \"The Godfather\" com uma pontuação de 100. O filme com o menor Meatscore é \"The Shawshank Redemption\" com uma pontuação de 81.'"
      ]
     },
     "execution_count": 15,
     "metadata": {},
     "output_type": "execute_result"
    }
   ],
   "source": [
    "chain.run(input_documents=documentos[:10],question=pergunta)"
   ]
  },
  {
   "cell_type": "markdown",
   "id": "e0b12633-4a1f-4a59-8a40-8ddd381e4c49",
   "metadata": {},
   "source": [
    "## Carregamento vídeos do youtube"
   ]
  },
  {
   "cell_type": "code",
   "execution_count": 21,
   "id": "d67dcc43-b9ca-4a8b-87c1-18d9dfa74c41",
   "metadata": {},
   "outputs": [
    {
     "name": "stdout",
     "output_type": "stream",
     "text": [
      "[youtube] Extracting URL: https://www.youtube.com/watch?v=E0ozmU9cJDg\n",
      "[youtube] E0ozmU9cJDg: Downloading webpage\n",
      "[youtube] E0ozmU9cJDg: Downloading tv client config\n",
      "[youtube] E0ozmU9cJDg: Downloading tv player API JSON\n",
      "[youtube] E0ozmU9cJDg: Downloading ios player API JSON\n",
      "[youtube] E0ozmU9cJDg: Downloading m3u8 information\n",
      "[info] E0ozmU9cJDg: Downloading 1 format(s): 251\n",
      "[download] Master of Puppets (Remastered) [E0ozmU9cJDg].webm has already been downloaded\n",
      "\u001b[K[download] 100% of    7.78MiB\n",
      "[ExtractAudio] Destination: Master of Puppets (Remastered) [E0ozmU9cJDg].mp3\n",
      "Deleting original file Master of Puppets (Remastered) [E0ozmU9cJDg].webm (pass -k to keep)\n"
     ]
    }
   ],
   "source": [
    "!yt-dlp -x --audio-format mp3 \"https://www.youtube.com/watch?v=E0ozmU9cJDg\""
   ]
  },
  {
   "cell_type": "code",
   "execution_count": 23,
   "id": "84cc42b1-b0f0-4f71-afb2-3c6205b879bb",
   "metadata": {},
   "outputs": [],
   "source": [
    "# url = 'https://www.youtube.com/watch?v=E0ozmU9cJDg'\n",
    "# save_dir = 'files/youtube'\n",
    "# loader = GenericLoader(\n",
    "#     YoutubeAudioLoader([url],save_dir),\n",
    "#     OpenAIWhisperParser()\n",
    "# )\n",
    "\n",
    "# docs = loader.load()"
   ]
  }
 ],
 "metadata": {
  "kernelspec": {
   "display_name": "Python 3 (ipykernel)",
   "language": "python",
   "name": "python3"
  },
  "language_info": {
   "codemirror_mode": {
    "name": "ipython",
    "version": 3
   },
   "file_extension": ".py",
   "mimetype": "text/x-python",
   "name": "python",
   "nbconvert_exporter": "python",
   "pygments_lexer": "ipython3",
   "version": "3.12.3"
  }
 },
 "nbformat": 4,
 "nbformat_minor": 5
}
