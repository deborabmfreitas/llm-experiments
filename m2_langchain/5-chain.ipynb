{
 "cells": [
  {
   "cell_type": "markdown",
   "id": "9698a91e-4e86-4af8-b5ba-2bc9fcbd5cec",
   "metadata": {},
   "source": [
    "## Langchain (chain)"
   ]
  },
  {
   "cell_type": "markdown",
   "id": "f807e016-70f9-4962-a931-4f576029d043",
   "metadata": {},
   "source": [
    "* Um \"chain\" (ou \"cadeia\") é uma sequência de componentes ou operações encadeadas para realizar uma tarefa complexa de processamento de linguagem natural (NLP) de forma modular e fluida\n",
    "* É uma sequência de chamadas que podem envolver diferentes módulos do LangChain (como LLMs, ferramentas, memória, etc.), onde a saída de uma etapa pode ser utilizada como entrada para a próxima. Isso permite a construção de fluxos de trabalho mais sofisticados e poderosos, sem a necessidade de implementar tudo manualmente."
   ]
  },
  {
   "cell_type": "code",
   "execution_count": 1,
   "id": "ac47a7d3-9f8c-47b4-8927-759bd97ad761",
   "metadata": {},
   "outputs": [],
   "source": [
    "# Bibliotecas\n",
    "\n",
    "from langchain_openai.chat_models import ChatOpenAI\n",
    "from langchain.memory import ConversationBufferMemory\n",
    "from langchain.chains.conversation.base import ConversationChain # ConversationChain\n",
    "from langchain.prompts import PromptTemplate # Com prompt template\n",
    "from langchain.chains.llm import LLMChain # Com LLMChain\n",
    "from langchain.chains import SimpleSequentialChain # Com SimpleSequentialChain\n",
    "from langchain.chains import SequentialChain # SequentialChain"
   ]
  },
  {
   "cell_type": "code",
   "execution_count": 2,
   "id": "5ad9f135-63d9-4a91-92e0-99884092a5ef",
   "metadata": {},
   "outputs": [],
   "source": [
    "chat = ChatOpenAI(model='gpt-3.5-turbo-0125')\n",
    "memory = ConversationBufferMemory()\n",
    "chain = ConversationChain(\n",
    "    llm=chat,\n",
    "    memory=memory,\n",
    "    verbose=True\n",
    ")"
   ]
  },
  {
   "cell_type": "markdown",
   "id": "c6df2b46-0d8a-44a9-98c2-5bcfc9245501",
   "metadata": {},
   "source": [
    "#### Demonstração geral"
   ]
  },
  {
   "cell_type": "code",
   "execution_count": 3,
   "id": "6c04096a-8ac4-4c27-9f4c-aa5a39323891",
   "metadata": {},
   "outputs": [
    {
     "name": "stdout",
     "output_type": "stream",
     "text": [
      "\n",
      "\n",
      "\u001b[1m> Entering new ConversationChain chain...\u001b[0m\n",
      "Prompt after formatting:\n",
      "\u001b[32;1m\u001b[1;3mThe following is a friendly conversation between a human and an AI. The AI is talkative and provides lots of specific details from its context. If the AI does not know the answer to a question, it truthfully says it does not know.\n",
      "\n",
      "Current conversation:\n",
      "\n",
      "Human: Hello!\n",
      "AI:\u001b[0m\n",
      "\n",
      "\u001b[1m> Finished chain.\u001b[0m\n"
     ]
    },
    {
     "data": {
      "text/plain": [
       "'Hello! How are you today?'"
      ]
     },
     "execution_count": 3,
     "metadata": {},
     "output_type": "execute_result"
    }
   ],
   "source": [
    "# Demonstração 1\n",
    "\n",
    "chain.predict(input='Hello!')"
   ]
  },
  {
   "cell_type": "code",
   "execution_count": 4,
   "id": "c8e65777-27ab-4059-8560-887845522ed7",
   "metadata": {},
   "outputs": [
    {
     "name": "stdout",
     "output_type": "stream",
     "text": [
      "\n",
      "\n",
      "\u001b[1m> Entering new ConversationChain chain...\u001b[0m\n",
      "Prompt after formatting:\n",
      "\u001b[32;1m\u001b[1;3mThe following is a friendly conversation between a human and an AI. The AI is talkative and provides lots of specific details from its context. If the AI does not know the answer to a question, it truthfully says it does not know.\n",
      "\n",
      "Current conversation:\n",
      "Human: Hello!\n",
      "AI: Hello! How are you today?\n",
      "Human: Hello!\n",
      "AI:\u001b[0m\n"
     ]
    },
    {
     "name": "stderr",
     "output_type": "stream",
     "text": [
      "/home/debora/Downloads/llm-experiments/m2_langchain/.venv1/lib/python3.12/site-packages/langchain_core/_api/deprecation.py:119: LangChainDeprecationWarning: The method `Chain.run` was deprecated in langchain 0.1.0 and will be removed in 0.2.0. Use invoke instead.\n",
      "  warn_deprecated(\n"
     ]
    },
    {
     "name": "stdout",
     "output_type": "stream",
     "text": [
      "\n",
      "\u001b[1m> Finished chain.\u001b[0m\n"
     ]
    },
    {
     "data": {
      "text/plain": [
       "\"Hello again! Did you know that the average temperature on Earth is about 57 degrees Fahrenheit? It's quite comfortable for most living organisms.\""
      ]
     },
     "execution_count": 4,
     "metadata": {},
     "output_type": "execute_result"
    }
   ],
   "source": [
    "# Demonstração 2\n",
    "\n",
    "chain.run('Hello!')"
   ]
  },
  {
   "cell_type": "markdown",
   "id": "dc9b8c58-dda9-4f6e-b148-9761cca2bc52",
   "metadata": {},
   "source": [
    "#### Prompt template"
   ]
  },
  {
   "cell_type": "code",
   "execution_count": 5,
   "id": "307efbe1-06b5-4f68-b713-4ddddfc9a2b0",
   "metadata": {},
   "outputs": [],
   "source": [
    "# Demonstração 3 - Com prompt template\n",
    "\n",
    "prompt_template = PromptTemplate.from_template(\"\"\"\n",
    "Essa é uma conversa amigável entre um humano e uma IA\n",
    "\n",
    "conversa atual:\n",
    "{history}\n",
    "\n",
    "Human: {input}\n",
    "\n",
    "AI:\n",
    "\"\"\")"
   ]
  },
  {
   "cell_type": "code",
   "execution_count": 6,
   "id": "324e3a13-7794-4bb1-aa24-a2761e9c5e0f",
   "metadata": {},
   "outputs": [],
   "source": [
    "chat = ChatOpenAI(model='gpt-3.5-turbo-0125')\n",
    "memory = ConversationBufferMemory()\n",
    "chain = ConversationChain(\n",
    "    prompt=prompt_template,\n",
    "    llm=chat,\n",
    "    memory=memory,\n",
    "    verbose=True\n",
    ")"
   ]
  },
  {
   "cell_type": "code",
   "execution_count": 7,
   "id": "8a339a0a-f439-4e1f-a5d4-4d5fba02d4bc",
   "metadata": {},
   "outputs": [
    {
     "name": "stdout",
     "output_type": "stream",
     "text": [
      "\n",
      "\n",
      "\u001b[1m> Entering new ConversationChain chain...\u001b[0m\n",
      "Prompt after formatting:\n",
      "\u001b[32;1m\u001b[1;3m\n",
      "Essa é uma conversa amigável entre um humano e uma IA\n",
      "\n",
      "conversa atual:\n",
      "\n",
      "\n",
      "Human: Oi\n",
      "\n",
      "AI:\n",
      "\u001b[0m\n",
      "\n",
      "\u001b[1m> Finished chain.\u001b[0m\n"
     ]
    },
    {
     "data": {
      "text/plain": [
       "'Olá! Como posso te ajudar hoje?'"
      ]
     },
     "execution_count": 7,
     "metadata": {},
     "output_type": "execute_result"
    }
   ],
   "source": [
    "chain.predict(input='Oi')"
   ]
  },
  {
   "cell_type": "markdown",
   "id": "508d886e-5a84-4649-a326-f00929a2e060",
   "metadata": {},
   "source": [
    "#### LLMChain"
   ]
  },
  {
   "cell_type": "code",
   "execution_count": 8,
   "id": "038e9d30-d623-49d1-bf64-92952c278638",
   "metadata": {},
   "outputs": [],
   "source": [
    "# Demonstração 4 - com LLMChain\n",
    "\n",
    "chat = ChatOpenAI(model='gpt-3.5-turbo-0125')"
   ]
  },
  {
   "cell_type": "code",
   "execution_count": 9,
   "id": "8279e6a6-f6ec-4127-906a-46efb146b236",
   "metadata": {},
   "outputs": [
    {
     "data": {
      "text/plain": [
       "'LangChain Solutions Ltd.'"
      ]
     },
     "execution_count": 9,
     "metadata": {},
     "output_type": "execute_result"
    }
   ],
   "source": [
    "prompt = PromptTemplate.from_template(\n",
    "    \"\"\"\n",
    "    Escolha o melhor nome para mim sobre uma empresa que desenvolve soluções em {produto}\n",
    "    \n",
    "    \"\"\"\n",
    ")\n",
    "\n",
    "chain = LLMChain(llm=chat, prompt=prompt)\n",
    "produto = 'LLMs com LangChain'\n",
    "chain.run(produto)"
   ]
  },
  {
   "cell_type": "markdown",
   "id": "1a0d920e-a5a6-4e57-9331-e8fee3591839",
   "metadata": {},
   "source": [
    "#### SimpleSequentialChain"
   ]
  },
  {
   "cell_type": "code",
   "execution_count": 10,
   "id": "82536a02-b0a9-42e3-bbdc-f05ba53a7fa4",
   "metadata": {},
   "outputs": [],
   "source": [
    "# Demonstração 5 - com SimpleSequentialChain\n",
    "\n",
    "prompt = PromptTemplate.from_template(\n",
    "    \"\"\"\n",
    "    Escolha o melhor nome para mim sobre uma empresa que desenvolve soluções em {produto}\n",
    "    \n",
    "    \"\"\"\n",
    ")\n",
    "\n",
    "chain_nome = LLMChain(llm=chat, prompt=prompt)"
   ]
  },
  {
   "cell_type": "code",
   "execution_count": 11,
   "id": "2a680a5d-fafc-445a-b6a7-d417130ab107",
   "metadata": {},
   "outputs": [],
   "source": [
    "prompt_descricao = PromptTemplate.from_template(\n",
    "    \"\"\"\n",
    "    Sobre a empresa com nome {nome_empresa},\n",
    "    informe uma descrição de até 20 palavras.\n",
    "    \"\"\"\n",
    ")\n",
    "\n",
    "chain_descricao = LLMChain(llm=chat, prompt=prompt_descricao)"
   ]
  },
  {
   "cell_type": "code",
   "execution_count": 12,
   "id": "0d362333-e13e-40e6-add3-00415ca93dc9",
   "metadata": {
    "scrolled": true
   },
   "outputs": [
    {
     "name": "stdout",
     "output_type": "stream",
     "text": [
      "\n",
      "\n",
      "\u001b[1m> Entering new SimpleSequentialChain chain...\u001b[0m\n",
      "\u001b[36;1m\u001b[1;3m\"LangTech Solutions\"\u001b[0m\n",
      "\u001b[33;1m\u001b[1;3mA LangTech Solutions é uma empresa dedicada a fornecer soluções tecnológicas inovadoras e eficientes para diversas áreas de negócio.\u001b[0m\n",
      "\n",
      "\u001b[1m> Finished chain.\u001b[0m\n"
     ]
    },
    {
     "data": {
      "text/plain": [
       "'A LangTech Solutions é uma empresa dedicada a fornecer soluções tecnológicas inovadoras e eficientes para diversas áreas de negócio.'"
      ]
     },
     "execution_count": 12,
     "metadata": {},
     "output_type": "execute_result"
    }
   ],
   "source": [
    "chain = SimpleSequentialChain(\n",
    "    chains=[chain_nome,chain_descricao],\n",
    "    verbose=True\n",
    ")\n",
    "\n",
    "chain.run(produto)"
   ]
  },
  {
   "cell_type": "markdown",
   "id": "c25ccad0-fe81-4272-af7d-052be19a0f41",
   "metadata": {},
   "source": [
    "#### SequentialChain"
   ]
  },
  {
   "cell_type": "code",
   "execution_count": 13,
   "id": "9fe19fc8-2aab-4aeb-b561-780b29dca475",
   "metadata": {},
   "outputs": [],
   "source": [
    "# Demonstração 6\n",
    "\n",
    "\n",
    "prompt = PromptTemplate.from_template(\n",
    "    \"\"\"\n",
    "    Qual um bom nome de empresa que desenvolve soluções em {produto}?\n",
    "    \"\"\"\n",
    ")\n",
    "chain_nome = LLMChain(llm=chat, prompt=prompt, output_key=\"nome_empresa\")\n",
    "\n",
    "prompt_descricao = PromptTemplate.from_template(\n",
    "    \"\"\"\n",
    "    Sobre a empresa com o nome {nome_empresa} e que \n",
    "    produz seguinte {produto}.\n",
    "    Informe uma descrição de até 30 palavras de atividades dessa empresa\n",
    "    \"\"\"\n",
    ")\n",
    "chain_descricao = LLMChain(llm=chat, prompt=prompt_descricao, \n",
    "                           output_key=\"descricao_empresa\")\n",
    "\n",
    "prompt_traducao = PromptTemplate.from_template(\n",
    "    \"\"\"\n",
    "    Crie um nome em espanhol para a empresa de nome {nome_empresa}\n",
    "    que possui a seguinte descrição {descricao_empresa}\n",
    "    \"\"\"\n",
    ")\n",
    "chain_traducao = LLMChain(llm=chat, prompt=prompt_traducao, \n",
    "                          output_key=\"nome_espanhol\")"
   ]
  },
  {
   "cell_type": "code",
   "execution_count": 14,
   "id": "6b779831-dd52-4da0-85cc-514b3cf67bdd",
   "metadata": {},
   "outputs": [
    {
     "name": "stdout",
     "output_type": "stream",
     "text": [
      "\n",
      "\n",
      "\u001b[1m> Entering new SequentialChain chain...\u001b[0m\n",
      "\n",
      "\u001b[1m> Finished chain.\u001b[0m\n"
     ]
    }
   ],
   "source": [
    "chain = SequentialChain(\n",
    "    chains=[chain_nome, chain_descricao, chain_traducao],\n",
    "    input_variables=[\"produto\"],\n",
    "    output_variables=[\"nome_empresa\", \"descricao_empresa\", \"nome_espanhol\"],\n",
    "    verbose=True\n",
    ")\n",
    "\n",
    "resposta = chain.invoke({\"produto\": produto})"
   ]
  },
  {
   "cell_type": "code",
   "execution_count": 15,
   "id": "de6bd30f-b50b-4744-b340-b5d91094664d",
   "metadata": {},
   "outputs": [
    {
     "data": {
      "text/plain": [
       "'LLMs com LangChain'"
      ]
     },
     "execution_count": 15,
     "metadata": {},
     "output_type": "execute_result"
    }
   ],
   "source": [
    "resposta[\"produto\"]"
   ]
  },
  {
   "cell_type": "code",
   "execution_count": 16,
   "id": "66010665-88f9-4519-87db-6915e448c222",
   "metadata": {},
   "outputs": [
    {
     "data": {
      "text/plain": [
       "'\"LangLink Solutions\"'"
      ]
     },
     "execution_count": 16,
     "metadata": {},
     "output_type": "execute_result"
    }
   ],
   "source": [
    "resposta[\"nome_empresa\"]"
   ]
  },
  {
   "cell_type": "code",
   "execution_count": 17,
   "id": "1098146d-52ad-40fd-bc5e-2424a86b6e62",
   "metadata": {},
   "outputs": [
    {
     "data": {
      "text/plain": [
       "'A LangLink Solutions é uma empresa especializada na produção de LLMs com LangChain, oferecendo soluções avançadas de linguagem para diversas aplicações.'"
      ]
     },
     "execution_count": 17,
     "metadata": {},
     "output_type": "execute_result"
    }
   ],
   "source": [
    "resposta[\"descricao_empresa\"]"
   ]
  },
  {
   "cell_type": "code",
   "execution_count": 18,
   "id": "c3596aaf-0cd8-487d-a515-00d5d8f53284",
   "metadata": {},
   "outputs": [
    {
     "data": {
      "text/plain": [
       "'Soluciones de Lenguaje LangLink'"
      ]
     },
     "execution_count": 18,
     "metadata": {},
     "output_type": "execute_result"
    }
   ],
   "source": [
    "resposta[\"nome_espanhol\"]"
   ]
  }
 ],
 "metadata": {
  "kernelspec": {
   "display_name": "Python 3 (ipykernel)",
   "language": "python",
   "name": "python3"
  },
  "language_info": {
   "codemirror_mode": {
    "name": "ipython",
    "version": 3
   },
   "file_extension": ".py",
   "mimetype": "text/x-python",
   "name": "python",
   "nbconvert_exporter": "python",
   "pygments_lexer": "ipython3",
   "version": "3.12.3"
  }
 },
 "nbformat": 4,
 "nbformat_minor": 5
}
